{
 "cells": [
  {
   "cell_type": "code",
   "execution_count": 1,
   "metadata": {},
   "outputs": [
    {
     "name": "stderr",
     "output_type": "stream",
     "text": [
      "<ipython-input-1-d4dc67f16e7e>:3: FutureWarning: Passing a negative integer is deprecated in version 1.0 and will not be supported in future version. Instead, use None to not limit the column width.\n",
      "  pd.set_option('display.max_colwidth', -1)\n"
     ]
    }
   ],
   "source": [
    "import numpy as np \n",
    "import pandas as pd \n",
    "pd.set_option('display.max_colwidth', -1)\n",
    "from time import time\n",
    "import re\n",
    "import string\n",
    "import os\n",
    "import emoji\n",
    "from pprint import pprint\n",
    "import collections\n",
    "\n",
    "import matplotlib.pyplot as plt\n",
    "\n",
    "\n",
    "from sklearn.base import BaseEstimator, TransformerMixin\n",
    "from sklearn.feature_extraction.text import CountVectorizer\n",
    "from sklearn.feature_extraction.text import TfidfVectorizer\n",
    "from sklearn.model_selection import GridSearchCV\n",
    "from sklearn.model_selection import train_test_split\n",
    "from sklearn.pipeline import Pipeline, FeatureUnion\n",
    "from sklearn.metrics import classification_report\n",
    "\n",
    "from sklearn.naive_bayes import MultinomialNB\n",
    "from sklearn.linear_model import LogisticRegression\n",
    "\n",
    "from nltk.corpus import stopwords\n",
    "from nltk.stem import PorterStemmer\n",
    "from nltk.tokenize import word_tokenize\n",
    "\n",
    "import warnings\n",
    "warnings.filterwarnings('ignore')\n",
    "\n",
    "np.random.seed(37)"
   ]
  },
  {
   "cell_type": "code",
   "execution_count": 2,
   "metadata": {},
   "outputs": [],
   "source": [
    "X = pd.read_csv(\"train.csv\")\n",
    "test_set = pd.read_csv(\"test.csv\")\n",
    "labels = pd.read_csv(\"labels.csv\")"
   ]
  },
  {
   "cell_type": "code",
   "execution_count": null,
   "metadata": {},
   "outputs": [],
   "source": [
    "test_set=test_set[\"Text\"]\n",
    "labels = labels[\"Score\"]"
   ]
  },
  {
   "cell_type": "code",
   "execution_count": 3,
   "metadata": {},
   "outputs": [
    {
     "data": {
      "text/html": [
       "<div>\n",
       "<style scoped>\n",
       "    .dataframe tbody tr th:only-of-type {\n",
       "        vertical-align: middle;\n",
       "    }\n",
       "\n",
       "    .dataframe tbody tr th {\n",
       "        vertical-align: top;\n",
       "    }\n",
       "\n",
       "    .dataframe thead th {\n",
       "        text-align: right;\n",
       "    }\n",
       "</style>\n",
       "<table border=\"1\" class=\"dataframe\">\n",
       "  <thead>\n",
       "    <tr style=\"text-align: right;\">\n",
       "      <th></th>\n",
       "      <th>Id</th>\n",
       "      <th>ProductId</th>\n",
       "      <th>UserId</th>\n",
       "      <th>ProfileName</th>\n",
       "      <th>HelpfulnessNumerator</th>\n",
       "      <th>HelpfulnessDenominator</th>\n",
       "      <th>Score</th>\n",
       "      <th>Time</th>\n",
       "      <th>Summary</th>\n",
       "      <th>Text</th>\n",
       "    </tr>\n",
       "  </thead>\n",
       "  <tbody>\n",
       "    <tr>\n",
       "      <th>0</th>\n",
       "      <td>220291</td>\n",
       "      <td>B0034EDLS2</td>\n",
       "      <td>AVF82BC7S0IO7</td>\n",
       "      <td>Kbrown</td>\n",
       "      <td>0</td>\n",
       "      <td>0</td>\n",
       "      <td>5</td>\n",
       "      <td>1332806400</td>\n",
       "      <td>Very Good</td>\n",
       "      <td>I received this product early from the seller! They are a very tastey &amp; a Great mid-day snack. I have shared them with my Glutten Free Friends &amp; they will be ordering this product &amp; more very soon.</td>\n",
       "    </tr>\n",
       "    <tr>\n",
       "      <th>1</th>\n",
       "      <td>225833</td>\n",
       "      <td>B001I7HJE4</td>\n",
       "      <td>A1YUL9PCJR3JTY</td>\n",
       "      <td>O. Brown \"Ms. O. Khannah-Brown\"</td>\n",
       "      <td>1</td>\n",
       "      <td>1</td>\n",
       "      <td>5</td>\n",
       "      <td>1190160000</td>\n",
       "      <td>Organic, Kosher, Tasty Assortment of Premium Teas &amp; Teasans</td>\n",
       "      <td>*****&lt;br /&gt;Numi's Collection Assortment Melange includes:&lt;br /&gt;5 Herbal Teas (caffeine-free, also called \"teasans\"):&lt;br /&gt;* Dry Desert Lime: Lime Herbal Teasan&lt;br /&gt;* Fields of Gold: Lemongrass Herbal Teasan&lt;br /&gt;* Red Mellow Bush: Rooibos Herbal Teasan&lt;br /&gt;* Bushmen's Brew: Honeybush Herbal Teasan&lt;br /&gt;* Simply Mint: Moroccan Mint&lt;br /&gt;&lt;br /&gt;2 Green Teas (lower in caffeine):&lt;br /&gt;* Temple of Heaven: Gunpowder Green Tea&lt;br /&gt;* Monkey King: Jasmine Green Tea&lt;br /&gt;&lt;br /&gt;2 Black Teas (contain caffeine):&lt;br /&gt;* Chinese Breakfast: Yunnan Black Tea&lt;br /&gt;* Smoky Tarry: Lapsang Souchong Black Tea&lt;br /&gt;&lt;br /&gt;This is a total of nine different teas, two tea bags of each one in each box. Numi teas are known for their high-quality, organic and kosher ingredients, and in my opinion, are some of the tastiest and best teas I have ever tried. They do not include artificial ingredients or flavorings.&lt;br /&gt;&lt;br /&gt;On the box, the manufacturer writes: \"From mist-covered mountains to sun-drenched deserts to fertile fields, we proudly bring you our tea palette. The flavors range from smooth earthiness, and light floral scents, to refreshingly sweet and sour notes. What they all share is the recollection of how some Ancient One tamed fire and water to coexist harmoniously, and steeped in them the gifts of Nature. Since that distant past, people have soothed, roused, healed, explored and celebrated with these wonderful infusions. We encourage you to do the same with Numi's finest.\"&lt;br /&gt;&lt;br /&gt;The price is perfect, a big savings over single boxes. If you like Numi teas and want to sample a wonderful assortment, get it---you won't be sorry. There may be some you like and others you don't, but sampling them will be a delightful experience. If you are new to Numi this is an excellent way to sample their high-quality teas. I do not think you could find a better source of premium tea than Numi.&lt;br /&gt;&lt;br /&gt;Highly recommended.&lt;br /&gt;*****</td>\n",
       "    </tr>\n",
       "    <tr>\n",
       "      <th>2</th>\n",
       "      <td>350901</td>\n",
       "      <td>B000LKTB90</td>\n",
       "      <td>A1BBPP1EC75JX4</td>\n",
       "      <td>Johan Bollen \"gekhond\"</td>\n",
       "      <td>0</td>\n",
       "      <td>0</td>\n",
       "      <td>5</td>\n",
       "      <td>1285977600</td>\n",
       "      <td>excellent gluten-free spaghetti: great taste, great structure</td>\n",
       "      <td>I was very careful not to overcook this pasta, making sure to take a bite every minute or so, and rinsed it with water as soon as it was al dente. It was all very easy and the result was absolutely *PERFECT*. This is one great tasting gluten-free pasta! My wife is Italian and she claims it is on par with some of the best wheat-based pasta she has had. My daughter has celiac disease and loved it too. I did notice a slight corn taste, but it was very pleasant and certainly not too pronounced. You could serve this pasta to your guests and they'd have no idea that this is a gluten-free, quinoa-based pasta.&lt;br /&gt;&lt;br /&gt;This product has tremendous value to us because it uses quinoa flour (one of my favorite \"grains\"), there are only two (2!) ingredients (quinoa and corn flour) that are both are organic, it is produced in a gluten-free facility, tastes great and has great structure (very nice al dente). A perfect combination!&lt;br /&gt;&lt;br /&gt;This product gets 5 stars and a glowing endorsement from all of us, and we are 2 discriminating foodies and a 7 year old with celiac disease.</td>\n",
       "    </tr>\n",
       "    <tr>\n",
       "      <th>3</th>\n",
       "      <td>299801</td>\n",
       "      <td>B001HXJPS2</td>\n",
       "      <td>A5QSI9MNS8NMS</td>\n",
       "      <td>M. Esaili</td>\n",
       "      <td>0</td>\n",
       "      <td>0</td>\n",
       "      <td>5</td>\n",
       "      <td>1338163200</td>\n",
       "      <td>Lindt is Lindt</td>\n",
       "      <td>Buying this multi-pack I was misled by the picture with whole hazel nuts. (Another proof how important is to read). But no problem. The chocolate is delicious like any Lindt's chocolate.</td>\n",
       "    </tr>\n",
       "    <tr>\n",
       "      <th>4</th>\n",
       "      <td>48472</td>\n",
       "      <td>B006H34CUS</td>\n",
       "      <td>A20IBAIRSNBEAQ</td>\n",
       "      <td>Chelsea</td>\n",
       "      <td>0</td>\n",
       "      <td>0</td>\n",
       "      <td>5</td>\n",
       "      <td>1343606400</td>\n",
       "      <td>YUM!!!!!</td>\n",
       "      <td>These bars are so good! I loved them warmed up! I definitely think these are a great snack or breakfast! I received this product for free from influenster!</td>\n",
       "    </tr>\n",
       "  </tbody>\n",
       "</table>\n",
       "</div>"
      ],
      "text/plain": [
       "       Id   ProductId          UserId                      ProfileName  \\\n",
       "0  220291  B0034EDLS2  AVF82BC7S0IO7   Kbrown                            \n",
       "1  225833  B001I7HJE4  A1YUL9PCJR3JTY  O. Brown \"Ms. O. Khannah-Brown\"   \n",
       "2  350901  B000LKTB90  A1BBPP1EC75JX4  Johan Bollen \"gekhond\"            \n",
       "3  299801  B001HXJPS2  A5QSI9MNS8NMS   M. Esaili                         \n",
       "4  48472   B006H34CUS  A20IBAIRSNBEAQ  Chelsea                           \n",
       "\n",
       "   HelpfulnessNumerator  HelpfulnessDenominator  Score        Time  \\\n",
       "0  0                     0                       5      1332806400   \n",
       "1  1                     1                       5      1190160000   \n",
       "2  0                     0                       5      1285977600   \n",
       "3  0                     0                       5      1338163200   \n",
       "4  0                     0                       5      1343606400   \n",
       "\n",
       "                                                         Summary  \\\n",
       "0  Very Good                                                       \n",
       "1  Organic, Kosher, Tasty Assortment of Premium Teas & Teasans     \n",
       "2  excellent gluten-free spaghetti: great taste, great structure   \n",
       "3  Lindt is Lindt                                                  \n",
       "4  YUM!!!!!                                                        \n",
       "\n",
       "                                                                                                                                                                                                                                                                                                                                                                                                                                                                                                                                                                                                                                                                                                                                                                                                                                                                                                                                                                                                                                                                                                                                                                                                                                                                                                                                                                                                                                                                                                                                                                                                                                                                                                                                                                                                                                                                                                                                                                                                                 Text  \n",
       "0  I received this product early from the seller! They are a very tastey & a Great mid-day snack. I have shared them with my Glutten Free Friends & they will be ordering this product & more very soon.                                                                                                                                                                                                                                                                                                                                                                                                                                                                                                                                                                                                                                                                                                                                                                                                                                                                                                                                                                                                                                                                                                                                                                                                                                                                                                                                                                                                                                                                                                                                                                                                                                                                                                                                                                                                               \n",
       "1  *****<br />Numi's Collection Assortment Melange includes:<br />5 Herbal Teas (caffeine-free, also called \"teasans\"):<br />* Dry Desert Lime: Lime Herbal Teasan<br />* Fields of Gold: Lemongrass Herbal Teasan<br />* Red Mellow Bush: Rooibos Herbal Teasan<br />* Bushmen's Brew: Honeybush Herbal Teasan<br />* Simply Mint: Moroccan Mint<br /><br />2 Green Teas (lower in caffeine):<br />* Temple of Heaven: Gunpowder Green Tea<br />* Monkey King: Jasmine Green Tea<br /><br />2 Black Teas (contain caffeine):<br />* Chinese Breakfast: Yunnan Black Tea<br />* Smoky Tarry: Lapsang Souchong Black Tea<br /><br />This is a total of nine different teas, two tea bags of each one in each box. Numi teas are known for their high-quality, organic and kosher ingredients, and in my opinion, are some of the tastiest and best teas I have ever tried. They do not include artificial ingredients or flavorings.<br /><br />On the box, the manufacturer writes: \"From mist-covered mountains to sun-drenched deserts to fertile fields, we proudly bring you our tea palette. The flavors range from smooth earthiness, and light floral scents, to refreshingly sweet and sour notes. What they all share is the recollection of how some Ancient One tamed fire and water to coexist harmoniously, and steeped in them the gifts of Nature. Since that distant past, people have soothed, roused, healed, explored and celebrated with these wonderful infusions. We encourage you to do the same with Numi's finest.\"<br /><br />The price is perfect, a big savings over single boxes. If you like Numi teas and want to sample a wonderful assortment, get it---you won't be sorry. There may be some you like and others you don't, but sampling them will be a delightful experience. If you are new to Numi this is an excellent way to sample their high-quality teas. I do not think you could find a better source of premium tea than Numi.<br /><br />Highly recommended.<br />*****  \n",
       "2  I was very careful not to overcook this pasta, making sure to take a bite every minute or so, and rinsed it with water as soon as it was al dente. It was all very easy and the result was absolutely *PERFECT*. This is one great tasting gluten-free pasta! My wife is Italian and she claims it is on par with some of the best wheat-based pasta she has had. My daughter has celiac disease and loved it too. I did notice a slight corn taste, but it was very pleasant and certainly not too pronounced. You could serve this pasta to your guests and they'd have no idea that this is a gluten-free, quinoa-based pasta.<br /><br />This product has tremendous value to us because it uses quinoa flour (one of my favorite \"grains\"), there are only two (2!) ingredients (quinoa and corn flour) that are both are organic, it is produced in a gluten-free facility, tastes great and has great structure (very nice al dente). A perfect combination!<br /><br />This product gets 5 stars and a glowing endorsement from all of us, and we are 2 discriminating foodies and a 7 year old with celiac disease.                                                                                                                                                                                                                                                                                                                                                                                                                                                                                                                                                                                                                                                                                                                                                                                                                                                                                        \n",
       "3  Buying this multi-pack I was misled by the picture with whole hazel nuts. (Another proof how important is to read). But no problem. The chocolate is delicious like any Lindt's chocolate.                                                                                                                                                                                                                                                                                                                                                                                                                                                                                                                                                                                                                                                                                                                                                                                                                                                                                                                                                                                                                                                                                                                                                                                                                                                                                                                                                                                                                                                                                                                                                                                                                                                                                                                                                                                                                          \n",
       "4  These bars are so good! I loved them warmed up! I definitely think these are a great snack or breakfast! I received this product for free from influenster!                                                                                                                                                                                                                                                                                                                                                                                                                                                                                                                                                                                                                                                                                                                                                                                                                                                                                                                                                                                                                                                                                                                                                                                                                                                                                                                                                                                                                                                                                                                                                                                                                                                                                                                                                                                                                                                         "
      ]
     },
     "execution_count": 3,
     "metadata": {},
     "output_type": "execute_result"
    }
   ],
   "source": [
    "X.head()"
   ]
  },
  {
   "cell_type": "code",
   "execution_count": 4,
   "metadata": {},
   "outputs": [
    {
     "data": {
      "text/html": [
       "<div>\n",
       "<style scoped>\n",
       "    .dataframe tbody tr th:only-of-type {\n",
       "        vertical-align: middle;\n",
       "    }\n",
       "\n",
       "    .dataframe tbody tr th {\n",
       "        vertical-align: top;\n",
       "    }\n",
       "\n",
       "    .dataframe thead th {\n",
       "        text-align: right;\n",
       "    }\n",
       "</style>\n",
       "<table border=\"1\" class=\"dataframe\">\n",
       "  <thead>\n",
       "    <tr style=\"text-align: right;\">\n",
       "      <th></th>\n",
       "      <th>Id</th>\n",
       "      <th>HelpfulnessNumerator</th>\n",
       "      <th>HelpfulnessDenominator</th>\n",
       "      <th>Score</th>\n",
       "      <th>Time</th>\n",
       "    </tr>\n",
       "  </thead>\n",
       "  <tbody>\n",
       "    <tr>\n",
       "      <th>count</th>\n",
       "      <td>426340.000000</td>\n",
       "      <td>426340.000000</td>\n",
       "      <td>426340.000000</td>\n",
       "      <td>426340.000000</td>\n",
       "      <td>4.263400e+05</td>\n",
       "    </tr>\n",
       "    <tr>\n",
       "      <th>mean</th>\n",
       "      <td>284300.799618</td>\n",
       "      <td>1.733159</td>\n",
       "      <td>2.220244</td>\n",
       "      <td>4.183455</td>\n",
       "      <td>1.296222e+09</td>\n",
       "    </tr>\n",
       "    <tr>\n",
       "      <th>std</th>\n",
       "      <td>164012.600602</td>\n",
       "      <td>7.328184</td>\n",
       "      <td>8.014894</td>\n",
       "      <td>1.310577</td>\n",
       "      <td>4.808061e+07</td>\n",
       "    </tr>\n",
       "    <tr>\n",
       "      <th>min</th>\n",
       "      <td>1.000000</td>\n",
       "      <td>0.000000</td>\n",
       "      <td>0.000000</td>\n",
       "      <td>1.000000</td>\n",
       "      <td>9.408096e+08</td>\n",
       "    </tr>\n",
       "    <tr>\n",
       "      <th>25%</th>\n",
       "      <td>142363.750000</td>\n",
       "      <td>0.000000</td>\n",
       "      <td>0.000000</td>\n",
       "      <td>4.000000</td>\n",
       "      <td>1.271203e+09</td>\n",
       "    </tr>\n",
       "    <tr>\n",
       "      <th>50%</th>\n",
       "      <td>284308.500000</td>\n",
       "      <td>0.000000</td>\n",
       "      <td>1.000000</td>\n",
       "      <td>5.000000</td>\n",
       "      <td>1.311034e+09</td>\n",
       "    </tr>\n",
       "    <tr>\n",
       "      <th>75%</th>\n",
       "      <td>426183.250000</td>\n",
       "      <td>2.000000</td>\n",
       "      <td>2.000000</td>\n",
       "      <td>5.000000</td>\n",
       "      <td>1.332720e+09</td>\n",
       "    </tr>\n",
       "    <tr>\n",
       "      <th>max</th>\n",
       "      <td>568454.000000</td>\n",
       "      <td>844.000000</td>\n",
       "      <td>923.000000</td>\n",
       "      <td>5.000000</td>\n",
       "      <td>1.351210e+09</td>\n",
       "    </tr>\n",
       "  </tbody>\n",
       "</table>\n",
       "</div>"
      ],
      "text/plain": [
       "                  Id  HelpfulnessNumerator  HelpfulnessDenominator  \\\n",
       "count  426340.000000  426340.000000         426340.000000            \n",
       "mean   284300.799618  1.733159              2.220244                 \n",
       "std    164012.600602  7.328184              8.014894                 \n",
       "min    1.000000       0.000000              0.000000                 \n",
       "25%    142363.750000  0.000000              0.000000                 \n",
       "50%    284308.500000  0.000000              1.000000                 \n",
       "75%    426183.250000  2.000000              2.000000                 \n",
       "max    568454.000000  844.000000            923.000000               \n",
       "\n",
       "               Score          Time  \n",
       "count  426340.000000  4.263400e+05  \n",
       "mean   4.183455       1.296222e+09  \n",
       "std    1.310577       4.808061e+07  \n",
       "min    1.000000       9.408096e+08  \n",
       "25%    4.000000       1.271203e+09  \n",
       "50%    5.000000       1.311034e+09  \n",
       "75%    5.000000       1.332720e+09  \n",
       "max    5.000000       1.351210e+09  "
      ]
     },
     "execution_count": 4,
     "metadata": {},
     "output_type": "execute_result"
    }
   ],
   "source": [
    "X.describe()"
   ]
  },
  {
   "cell_type": "code",
   "execution_count": 5,
   "metadata": {},
   "outputs": [
    {
     "data": {
      "text/plain": [
       "<matplotlib.axes._subplots.AxesSubplot at 0x279a57114f0>"
      ]
     },
     "execution_count": 5,
     "metadata": {},
     "output_type": "execute_result"
    },
    {
     "data": {
      "image/png": "[encoded data removed]",
      "text/plain": [
       "<Figure size 432x288 with 1 Axes>"
      ]
     },
     "metadata": {
      "needs_background": "light"
     },
     "output_type": "display_data"
    }
   ],
   "source": [
    "X['Score'].plot(bins=50, kind='hist') "
   ]
  },
  {
   "cell_type": "code",
   "execution_count": 6,
   "metadata": {},
   "outputs": [
    {
     "data": {
      "text/html": [
       "<div>\n",
       "<style scoped>\n",
       "    .dataframe tbody tr th:only-of-type {\n",
       "        vertical-align: middle;\n",
       "    }\n",
       "\n",
       "    .dataframe tbody tr th {\n",
       "        vertical-align: top;\n",
       "    }\n",
       "\n",
       "    .dataframe thead th {\n",
       "        text-align: right;\n",
       "    }\n",
       "</style>\n",
       "<table border=\"1\" class=\"dataframe\">\n",
       "  <thead>\n",
       "    <tr style=\"text-align: right;\">\n",
       "      <th></th>\n",
       "      <th>Id</th>\n",
       "      <th>ProductId</th>\n",
       "      <th>UserId</th>\n",
       "      <th>ProfileName</th>\n",
       "      <th>HelpfulnessNumerator</th>\n",
       "      <th>HelpfulnessDenominator</th>\n",
       "      <th>Score</th>\n",
       "      <th>Time</th>\n",
       "      <th>Summary</th>\n",
       "      <th>Text</th>\n",
       "      <th>length</th>\n",
       "    </tr>\n",
       "  </thead>\n",
       "  <tbody>\n",
       "    <tr>\n",
       "      <th>0</th>\n",
       "      <td>220291</td>\n",
       "      <td>B0034EDLS2</td>\n",
       "      <td>AVF82BC7S0IO7</td>\n",
       "      <td>Kbrown</td>\n",
       "      <td>0</td>\n",
       "      <td>0</td>\n",
       "      <td>5</td>\n",
       "      <td>1332806400</td>\n",
       "      <td>Very Good</td>\n",
       "      <td>I received this product early from the seller! They are a very tastey &amp; a Great mid-day snack. I have shared them with my Glutten Free Friends &amp; they will be ordering this product &amp; more very soon.</td>\n",
       "      <td>197</td>\n",
       "    </tr>\n",
       "    <tr>\n",
       "      <th>1</th>\n",
       "      <td>225833</td>\n",
       "      <td>B001I7HJE4</td>\n",
       "      <td>A1YUL9PCJR3JTY</td>\n",
       "      <td>O. Brown \"Ms. O. Khannah-Brown\"</td>\n",
       "      <td>1</td>\n",
       "      <td>1</td>\n",
       "      <td>5</td>\n",
       "      <td>1190160000</td>\n",
       "      <td>Organic, Kosher, Tasty Assortment of Premium Teas &amp; Teasans</td>\n",
       "      <td>*****&lt;br /&gt;Numi's Collection Assortment Melange includes:&lt;br /&gt;5 Herbal Teas (caffeine-free, also called \"teasans\"):&lt;br /&gt;* Dry Desert Lime: Lime Herbal Teasan&lt;br /&gt;* Fields of Gold: Lemongrass Herbal Teasan&lt;br /&gt;* Red Mellow Bush: Rooibos Herbal Teasan&lt;br /&gt;* Bushmen's Brew: Honeybush Herbal Teasan&lt;br /&gt;* Simply Mint: Moroccan Mint&lt;br /&gt;&lt;br /&gt;2 Green Teas (lower in caffeine):&lt;br /&gt;* Temple of Heaven: Gunpowder Green Tea&lt;br /&gt;* Monkey King: Jasmine Green Tea&lt;br /&gt;&lt;br /&gt;2 Black Teas (contain caffeine):&lt;br /&gt;* Chinese Breakfast: Yunnan Black Tea&lt;br /&gt;* Smoky Tarry: Lapsang Souchong Black Tea&lt;br /&gt;&lt;br /&gt;This is a total of nine different teas, two tea bags of each one in each box. Numi teas are known for their high-quality, organic and kosher ingredients, and in my opinion, are some of the tastiest and best teas I have ever tried. They do not include artificial ingredients or flavorings.&lt;br /&gt;&lt;br /&gt;On the box, the manufacturer writes: \"From mist-covered mountains to sun-drenched deserts to fertile fields, we proudly bring you our tea palette. The flavors range from smooth earthiness, and light floral scents, to refreshingly sweet and sour notes. What they all share is the recollection of how some Ancient One tamed fire and water to coexist harmoniously, and steeped in them the gifts of Nature. Since that distant past, people have soothed, roused, healed, explored and celebrated with these wonderful infusions. We encourage you to do the same with Numi's finest.\"&lt;br /&gt;&lt;br /&gt;The price is perfect, a big savings over single boxes. If you like Numi teas and want to sample a wonderful assortment, get it---you won't be sorry. There may be some you like and others you don't, but sampling them will be a delightful experience. If you are new to Numi this is an excellent way to sample their high-quality teas. I do not think you could find a better source of premium tea than Numi.&lt;br /&gt;&lt;br /&gt;Highly recommended.&lt;br /&gt;*****</td>\n",
       "      <td>1938</td>\n",
       "    </tr>\n",
       "    <tr>\n",
       "      <th>2</th>\n",
       "      <td>350901</td>\n",
       "      <td>B000LKTB90</td>\n",
       "      <td>A1BBPP1EC75JX4</td>\n",
       "      <td>Johan Bollen \"gekhond\"</td>\n",
       "      <td>0</td>\n",
       "      <td>0</td>\n",
       "      <td>5</td>\n",
       "      <td>1285977600</td>\n",
       "      <td>excellent gluten-free spaghetti: great taste, great structure</td>\n",
       "      <td>I was very careful not to overcook this pasta, making sure to take a bite every minute or so, and rinsed it with water as soon as it was al dente. It was all very easy and the result was absolutely *PERFECT*. This is one great tasting gluten-free pasta! My wife is Italian and she claims it is on par with some of the best wheat-based pasta she has had. My daughter has celiac disease and loved it too. I did notice a slight corn taste, but it was very pleasant and certainly not too pronounced. You could serve this pasta to your guests and they'd have no idea that this is a gluten-free, quinoa-based pasta.&lt;br /&gt;&lt;br /&gt;This product has tremendous value to us because it uses quinoa flour (one of my favorite \"grains\"), there are only two (2!) ingredients (quinoa and corn flour) that are both are organic, it is produced in a gluten-free facility, tastes great and has great structure (very nice al dente). A perfect combination!&lt;br /&gt;&lt;br /&gt;This product gets 5 stars and a glowing endorsement from all of us, and we are 2 discriminating foodies and a 7 year old with celiac disease.</td>\n",
       "      <td>1084</td>\n",
       "    </tr>\n",
       "    <tr>\n",
       "      <th>3</th>\n",
       "      <td>299801</td>\n",
       "      <td>B001HXJPS2</td>\n",
       "      <td>A5QSI9MNS8NMS</td>\n",
       "      <td>M. Esaili</td>\n",
       "      <td>0</td>\n",
       "      <td>0</td>\n",
       "      <td>5</td>\n",
       "      <td>1338163200</td>\n",
       "      <td>Lindt is Lindt</td>\n",
       "      <td>Buying this multi-pack I was misled by the picture with whole hazel nuts. (Another proof how important is to read). But no problem. The chocolate is delicious like any Lindt's chocolate.</td>\n",
       "      <td>186</td>\n",
       "    </tr>\n",
       "    <tr>\n",
       "      <th>4</th>\n",
       "      <td>48472</td>\n",
       "      <td>B006H34CUS</td>\n",
       "      <td>A20IBAIRSNBEAQ</td>\n",
       "      <td>Chelsea</td>\n",
       "      <td>0</td>\n",
       "      <td>0</td>\n",
       "      <td>5</td>\n",
       "      <td>1343606400</td>\n",
       "      <td>YUM!!!!!</td>\n",
       "      <td>These bars are so good! I loved them warmed up! I definitely think these are a great snack or breakfast! I received this product for free from influenster!</td>\n",
       "      <td>155</td>\n",
       "    </tr>\n",
       "  </tbody>\n",
       "</table>\n",
       "</div>"
      ],
      "text/plain": [
       "       Id   ProductId          UserId                      ProfileName  \\\n",
       "0  220291  B0034EDLS2  AVF82BC7S0IO7   Kbrown                            \n",
       "1  225833  B001I7HJE4  A1YUL9PCJR3JTY  O. Brown \"Ms. O. Khannah-Brown\"   \n",
       "2  350901  B000LKTB90  A1BBPP1EC75JX4  Johan Bollen \"gekhond\"            \n",
       "3  299801  B001HXJPS2  A5QSI9MNS8NMS   M. Esaili                         \n",
       "4  48472   B006H34CUS  A20IBAIRSNBEAQ  Chelsea                           \n",
       "\n",
       "   HelpfulnessNumerator  HelpfulnessDenominator  Score        Time  \\\n",
       "0  0                     0                       5      1332806400   \n",
       "1  1                     1                       5      1190160000   \n",
       "2  0                     0                       5      1285977600   \n",
       "3  0                     0                       5      1338163200   \n",
       "4  0                     0                       5      1343606400   \n",
       "\n",
       "                                                         Summary  \\\n",
       "0  Very Good                                                       \n",
       "1  Organic, Kosher, Tasty Assortment of Premium Teas & Teasans     \n",
       "2  excellent gluten-free spaghetti: great taste, great structure   \n",
       "3  Lindt is Lindt                                                  \n",
       "4  YUM!!!!!                                                        \n",
       "\n",
       "                                                                                                                                                                                                                                                                                                                                                                                                                                                                                                                                                                                                                                                                                                                                                                                                                                                                                                                                                                                                                                                                                                                                                                                                                                                                                                                                                                                                                                                                                                                                                                                                                                                                                                                                                                                                                                                                                                                                                                                                                 Text  \\\n",
       "0  I received this product early from the seller! They are a very tastey & a Great mid-day snack. I have shared them with my Glutten Free Friends & they will be ordering this product & more very soon.                                                                                                                                                                                                                                                                                                                                                                                                                                                                                                                                                                                                                                                                                                                                                                                                                                                                                                                                                                                                                                                                                                                                                                                                                                                                                                                                                                                                                                                                                                                                                                                                                                                                                                                                                                                                                \n",
       "1  *****<br />Numi's Collection Assortment Melange includes:<br />5 Herbal Teas (caffeine-free, also called \"teasans\"):<br />* Dry Desert Lime: Lime Herbal Teasan<br />* Fields of Gold: Lemongrass Herbal Teasan<br />* Red Mellow Bush: Rooibos Herbal Teasan<br />* Bushmen's Brew: Honeybush Herbal Teasan<br />* Simply Mint: Moroccan Mint<br /><br />2 Green Teas (lower in caffeine):<br />* Temple of Heaven: Gunpowder Green Tea<br />* Monkey King: Jasmine Green Tea<br /><br />2 Black Teas (contain caffeine):<br />* Chinese Breakfast: Yunnan Black Tea<br />* Smoky Tarry: Lapsang Souchong Black Tea<br /><br />This is a total of nine different teas, two tea bags of each one in each box. Numi teas are known for their high-quality, organic and kosher ingredients, and in my opinion, are some of the tastiest and best teas I have ever tried. They do not include artificial ingredients or flavorings.<br /><br />On the box, the manufacturer writes: \"From mist-covered mountains to sun-drenched deserts to fertile fields, we proudly bring you our tea palette. The flavors range from smooth earthiness, and light floral scents, to refreshingly sweet and sour notes. What they all share is the recollection of how some Ancient One tamed fire and water to coexist harmoniously, and steeped in them the gifts of Nature. Since that distant past, people have soothed, roused, healed, explored and celebrated with these wonderful infusions. We encourage you to do the same with Numi's finest.\"<br /><br />The price is perfect, a big savings over single boxes. If you like Numi teas and want to sample a wonderful assortment, get it---you won't be sorry. There may be some you like and others you don't, but sampling them will be a delightful experience. If you are new to Numi this is an excellent way to sample their high-quality teas. I do not think you could find a better source of premium tea than Numi.<br /><br />Highly recommended.<br />*****   \n",
       "2  I was very careful not to overcook this pasta, making sure to take a bite every minute or so, and rinsed it with water as soon as it was al dente. It was all very easy and the result was absolutely *PERFECT*. This is one great tasting gluten-free pasta! My wife is Italian and she claims it is on par with some of the best wheat-based pasta she has had. My daughter has celiac disease and loved it too. I did notice a slight corn taste, but it was very pleasant and certainly not too pronounced. You could serve this pasta to your guests and they'd have no idea that this is a gluten-free, quinoa-based pasta.<br /><br />This product has tremendous value to us because it uses quinoa flour (one of my favorite \"grains\"), there are only two (2!) ingredients (quinoa and corn flour) that are both are organic, it is produced in a gluten-free facility, tastes great and has great structure (very nice al dente). A perfect combination!<br /><br />This product gets 5 stars and a glowing endorsement from all of us, and we are 2 discriminating foodies and a 7 year old with celiac disease.                                                                                                                                                                                                                                                                                                                                                                                                                                                                                                                                                                                                                                                                                                                                                                                                                                                                                         \n",
       "3  Buying this multi-pack I was misled by the picture with whole hazel nuts. (Another proof how important is to read). But no problem. The chocolate is delicious like any Lindt's chocolate.                                                                                                                                                                                                                                                                                                                                                                                                                                                                                                                                                                                                                                                                                                                                                                                                                                                                                                                                                                                                                                                                                                                                                                                                                                                                                                                                                                                                                                                                                                                                                                                                                                                                                                                                                                                                                           \n",
       "4  These bars are so good! I loved them warmed up! I definitely think these are a great snack or breakfast! I received this product for free from influenster!                                                                                                                                                                                                                                                                                                                                                                                                                                                                                                                                                                                                                                                                                                                                                                                                                                                                                                                                                                                                                                                                                                                                                                                                                                                                                                                                                                                                                                                                                                                                                                                                                                                                                                                                                                                                                                                          \n",
       "\n",
       "   length  \n",
       "0  197     \n",
       "1  1938    \n",
       "2  1084    \n",
       "3  186     \n",
       "4  155     "
      ]
     },
     "execution_count": 6,
     "metadata": {},
     "output_type": "execute_result"
    }
   ],
   "source": [
    "X['length'] = X['Text'].apply(len)\n",
    "X.head()"
   ]
  },
  {
   "cell_type": "code",
   "execution_count": 7,
   "metadata": {},
   "outputs": [
    {
     "data": {
      "text/plain": [
       "array([[<matplotlib.axes._subplots.AxesSubplot object at 0x00000279A53D9E80>,\n",
       "        <matplotlib.axes._subplots.AxesSubplot object at 0x00000279A53E6DF0>],\n",
       "       [<matplotlib.axes._subplots.AxesSubplot object at 0x00000279A5665280>,\n",
       "        <matplotlib.axes._subplots.AxesSubplot object at 0x00000279A5690700>],\n",
       "       [<matplotlib.axes._subplots.AxesSubplot object at 0x00000279A56BDB80>,\n",
       "        <matplotlib.axes._subplots.AxesSubplot object at 0x00000279A71150A0>]],\n",
       "      dtype=object)"
      ]
     },
     "execution_count": 7,
     "metadata": {},
     "output_type": "execute_result"
    },
    {
     "data": {
      "image/png": "[encoded data removed]",
      "text/plain": [
       "<Figure size 864x864 with 6 Axes>"
      ]
     },
     "metadata": {
      "needs_background": "light"
     },
     "output_type": "display_data"
    }
   ],
   "source": [
    "X.hist(column='length', by='Score', bins=50,figsize=(12,12))"
   ]
  },
  {
   "cell_type": "code",
   "execution_count": 8,
   "metadata": {},
   "outputs": [],
   "source": [
    "    def remove_mentions(input_text):\n",
    "        return re.sub(r'@\\w+', '', input_text)\n",
    "    \n",
    "    def remove_urls(input_text):\n",
    "        return re.sub(r'http.?://[^\\s]+[\\s]?', '', input_text)\n",
    "    \n",
    "    def emoji_oneword(input_text):\n",
    "        # By compressing the underscore, the emoji is kept as one word\n",
    "        return input_text.replace('_','')\n",
    "    \n",
    "    def remove_punctuation(input_text):\n",
    "        # Make translation table\n",
    "        punct = string.punctuation\n",
    "        trantab = str.maketrans(punct, len(punct)*' ')  # Every punctuation symbol will be replaced by a space\n",
    "        return input_text.translate(trantab)\n",
    "\n",
    "    def remove_digits(input_text):\n",
    "        return re.sub('\\d+', '', input_text)\n",
    "    \n",
    "    def to_lower(input_text):\n",
    "        return input_text.lower()\n",
    "    \n",
    "    def remove_stopwords(input_text):\n",
    "        stopwords_list = stopwords.words('english')\n",
    "        # Some words which might indicate a certain sentiment are kept via a whitelist\n",
    "        whitelist = [\"n't\", \"not\", \"no\"]\n",
    "        words = input_text.split() \n",
    "        clean_words = [word for word in words if (word not in stopwords_list or word in whitelist) and len(word) > 1] \n",
    "        return \" \".join(clean_words) \n",
    "    \n",
    "    def stemming(input_text):\n",
    "        porter = PorterStemmer()\n",
    "        words = input_text.split() \n",
    "        stemmed_words = [porter.stem(word) for word in words]\n",
    "        return \" \".join(stemmed_words)\n",
    "    \n",
    "    def fit(X, y=None, **fit_params):\n",
    "        return self\n",
    "    \n",
    "    def transform(X):\n",
    "        clean_X = remove_mentions(X)\n",
    "        clean_X = remove_urls(clean_X)\n",
    "        clean_X = emoji_oneword(clean_X)\n",
    "        clean_X = remove_punctuation(clean_X)\n",
    "        clean_X = remove_digits(clean_X)\n",
    "        clean_X = to_lower(clean_X)\n",
    "        clean_X = remove_stopwords(clean_X)\n",
    "        clean_X = stemming(clean_X)\n",
    "        return clean_X\n"
   ]
  },
  {
   "cell_type": "code",
   "execution_count": 9,
   "metadata": {},
   "outputs": [
    {
     "data": {
      "text/plain": [
       "'I received this product early from the seller! They are a very tastey & a Great mid-day snack. I have shared them with my Glutten Free Friends & they will be ordering this product & more very soon.'"
      ]
     },
     "execution_count": 9,
     "metadata": {},
     "output_type": "execute_result"
    }
   ],
   "source": [
    "review = X['Text'][0]\n",
    "review"
   ]
  },
  {
   "cell_type": "code",
   "execution_count": 10,
   "metadata": {},
   "outputs": [
    {
     "data": {
      "text/plain": [
       "'receiv product earli seller tastey great mid day snack share glutten free friend order product soon'"
      ]
     },
     "execution_count": 10,
     "metadata": {},
     "output_type": "execute_result"
    }
   ],
   "source": [
    "t = transform(review)\n",
    "t"
   ]
  },
  {
   "cell_type": "code",
   "execution_count": 11,
   "metadata": {},
   "outputs": [
    {
     "data": {
      "text/plain": [
       "['I',\n",
       " 'received',\n",
       " 'this',\n",
       " 'product',\n",
       " 'early',\n",
       " 'from',\n",
       " 'the',\n",
       " 'seller',\n",
       " '!',\n",
       " 'They',\n",
       " 'are',\n",
       " 'a',\n",
       " 'very',\n",
       " 'tastey',\n",
       " '&',\n",
       " 'a',\n",
       " 'Great',\n",
       " 'mid',\n",
       " '-',\n",
       " 'day',\n",
       " 'snack',\n",
       " '.',\n",
       " 'I',\n",
       " 'have',\n",
       " 'shared',\n",
       " 'them',\n",
       " 'with',\n",
       " 'my',\n",
       " 'Glutten',\n",
       " 'Free',\n",
       " 'Friends',\n",
       " '&',\n",
       " 'they',\n",
       " 'will',\n",
       " 'be',\n",
       " 'ordering',\n",
       " 'this',\n",
       " 'product',\n",
       " '&',\n",
       " 'more',\n",
       " 'very',\n",
       " 'soon',\n",
       " '.']"
      ]
     },
     "execution_count": 11,
     "metadata": {},
     "output_type": "execute_result"
    }
   ],
   "source": [
    "from nltk import wordpunct_tokenize\n",
    "X['Tokens'] = X['Text'].apply(wordpunct_tokenize)\n",
    "X['Tokens'][0]"
   ]
  },
  {
   "cell_type": "code",
   "execution_count": 12,
   "metadata": {},
   "outputs": [
    {
     "data": {
      "text/plain": [
       "['i',\n",
       " 'receiv',\n",
       " 'this',\n",
       " 'product',\n",
       " 'earli',\n",
       " 'from',\n",
       " 'the',\n",
       " 'seller',\n",
       " '!',\n",
       " 'they',\n",
       " 'are',\n",
       " 'a',\n",
       " 'veri',\n",
       " 'tastey',\n",
       " '&',\n",
       " 'a',\n",
       " 'great',\n",
       " 'mid',\n",
       " '-',\n",
       " 'day',\n",
       " 'snack',\n",
       " '.',\n",
       " 'i',\n",
       " 'have',\n",
       " 'share',\n",
       " 'them',\n",
       " 'with',\n",
       " 'my',\n",
       " 'glutten',\n",
       " 'free',\n",
       " 'friend',\n",
       " '&',\n",
       " 'they',\n",
       " 'will',\n",
       " 'be',\n",
       " 'order',\n",
       " 'this',\n",
       " 'product',\n",
       " '&',\n",
       " 'more',\n",
       " 'veri',\n",
       " 'soon',\n",
       " '.']"
      ]
     },
     "execution_count": 12,
     "metadata": {},
     "output_type": "execute_result"
    }
   ],
   "source": [
    "from nltk.stem.snowball import SnowballStemmer\n",
    "from nltk.stem import WordNetLemmatizer\n",
    "stemmer = SnowballStemmer('english')\n",
    "lemma = WordNetLemmatizer()\n",
    "#X['Stemmed'] = X['Tokens'].apply(stemmer)\n",
    "X['Stemmed'] = X['Tokens'].apply(lambda x: [stemmer.stem(y) for y in x])\n",
    "X['Stemmed'][0]"
   ]
  },
  {
   "cell_type": "code",
   "execution_count": 13,
   "metadata": {},
   "outputs": [],
   "source": [
    "X['StemmedJoined'] = X['Stemmed'].apply(' '.join)"
   ]
  },
  {
   "cell_type": "code",
   "execution_count": 14,
   "metadata": {},
   "outputs": [
    {
     "data": {
      "text/html": [
       "<div>\n",
       "<style scoped>\n",
       "    .dataframe tbody tr th:only-of-type {\n",
       "        vertical-align: middle;\n",
       "    }\n",
       "\n",
       "    .dataframe tbody tr th {\n",
       "        vertical-align: top;\n",
       "    }\n",
       "\n",
       "    .dataframe thead th {\n",
       "        text-align: right;\n",
       "    }\n",
       "</style>\n",
       "<table border=\"1\" class=\"dataframe\">\n",
       "  <thead>\n",
       "    <tr style=\"text-align: right;\">\n",
       "      <th></th>\n",
       "      <th>Id</th>\n",
       "      <th>ProductId</th>\n",
       "      <th>UserId</th>\n",
       "      <th>ProfileName</th>\n",
       "      <th>HelpfulnessNumerator</th>\n",
       "      <th>HelpfulnessDenominator</th>\n",
       "      <th>Score</th>\n",
       "      <th>Time</th>\n",
       "      <th>Summary</th>\n",
       "      <th>Text</th>\n",
       "      <th>length</th>\n",
       "      <th>Tokens</th>\n",
       "      <th>Stemmed</th>\n",
       "      <th>StemmedJoined</th>\n",
       "    </tr>\n",
       "  </thead>\n",
       "  <tbody>\n",
       "    <tr>\n",
       "      <th>0</th>\n",
       "      <td>220291</td>\n",
       "      <td>B0034EDLS2</td>\n",
       "      <td>AVF82BC7S0IO7</td>\n",
       "      <td>Kbrown</td>\n",
       "      <td>0</td>\n",
       "      <td>0</td>\n",
       "      <td>5</td>\n",
       "      <td>1332806400</td>\n",
       "      <td>Very Good</td>\n",
       "      <td>I received this product early from the seller! They are a very tastey &amp; a Great mid-day snack. I have shared them with my Glutten Free Friends &amp; they will be ordering this product &amp; more very soon.</td>\n",
       "      <td>197</td>\n",
       "      <td>[I, received, this, product, early, from, the, seller, !, They, are, a, very, tastey, &amp;, a, Great, mid, -, day, snack, ., I, have, shared, them, with, my, Glutten, Free, Friends, &amp;, they, will, be, ordering, this, product, &amp;, more, very, soon, .]</td>\n",
       "      <td>[i, receiv, this, product, earli, from, the, seller, !, they, are, a, veri, tastey, &amp;, a, great, mid, -, day, snack, ., i, have, share, them, with, my, glutten, free, friend, &amp;, they, will, be, order, this, product, &amp;, more, veri, soon, .]</td>\n",
       "      <td>i receiv this product earli from the seller ! they are a veri tastey &amp; a great mid - day snack . i have share them with my glutten free friend &amp; they will be order this product &amp; more veri soon .</td>\n",
       "    </tr>\n",
       "    <tr>\n",
       "      <th>1</th>\n",
       "      <td>225833</td>\n",
       "      <td>B001I7HJE4</td>\n",
       "      <td>A1YUL9PCJR3JTY</td>\n",
       "      <td>O. Brown \"Ms. O. Khannah-Brown\"</td>\n",
       "      <td>1</td>\n",
       "      <td>1</td>\n",
       "      <td>5</td>\n",
       "      <td>1190160000</td>\n",
       "      <td>Organic, Kosher, Tasty Assortment of Premium Teas &amp; Teasans</td>\n",
       "      <td>*****&lt;br /&gt;Numi's Collection Assortment Melange includes:&lt;br /&gt;5 Herbal Teas (caffeine-free, also called \"teasans\"):&lt;br /&gt;* Dry Desert Lime: Lime Herbal Teasan&lt;br /&gt;* Fields of Gold: Lemongrass Herbal Teasan&lt;br /&gt;* Red Mellow Bush: Rooibos Herbal Teasan&lt;br /&gt;* Bushmen's Brew: Honeybush Herbal Teasan&lt;br /&gt;* Simply Mint: Moroccan Mint&lt;br /&gt;&lt;br /&gt;2 Green Teas (lower in caffeine):&lt;br /&gt;* Temple of Heaven: Gunpowder Green Tea&lt;br /&gt;* Monkey King: Jasmine Green Tea&lt;br /&gt;&lt;br /&gt;2 Black Teas (contain caffeine):&lt;br /&gt;* Chinese Breakfast: Yunnan Black Tea&lt;br /&gt;* Smoky Tarry: Lapsang Souchong Black Tea&lt;br /&gt;&lt;br /&gt;This is a total of nine different teas, two tea bags of each one in each box. Numi teas are known for their high-quality, organic and kosher ingredients, and in my opinion, are some of the tastiest and best teas I have ever tried. They do not include artificial ingredients or flavorings.&lt;br /&gt;&lt;br /&gt;On the box, the manufacturer writes: \"From mist-covered mountains to sun-drenched deserts to fertile fields, we proudly bring you our tea palette. The flavors range from smooth earthiness, and light floral scents, to refreshingly sweet and sour notes. What they all share is the recollection of how some Ancient One tamed fire and water to coexist harmoniously, and steeped in them the gifts of Nature. Since that distant past, people have soothed, roused, healed, explored and celebrated with these wonderful infusions. We encourage you to do the same with Numi's finest.\"&lt;br /&gt;&lt;br /&gt;The price is perfect, a big savings over single boxes. If you like Numi teas and want to sample a wonderful assortment, get it---you won't be sorry. There may be some you like and others you don't, but sampling them will be a delightful experience. If you are new to Numi this is an excellent way to sample their high-quality teas. I do not think you could find a better source of premium tea than Numi.&lt;br /&gt;&lt;br /&gt;Highly recommended.&lt;br /&gt;*****</td>\n",
       "      <td>1938</td>\n",
       "      <td>[*****&lt;, br, /&gt;, Numi, ', s, Collection, Assortment, Melange, includes, :&lt;, br, /&gt;, 5, Herbal, Teas, (, caffeine, -, free, ,, also, called, \", teasans, \"):&lt;, br, /&gt;*, Dry, Desert, Lime, :, Lime, Herbal, Teasan, &lt;, br, /&gt;*, Fields, of, Gold, :, Lemongrass, Herbal, Teasan, &lt;, br, /&gt;*, Red, Mellow, Bush, :, Rooibos, Herbal, Teasan, &lt;, br, /&gt;*, Bushmen, ', s, Brew, :, Honeybush, Herbal, Teasan, &lt;, br, /&gt;*, Simply, Mint, :, Moroccan, Mint, &lt;, br, /&gt;&lt;, br, /&gt;, 2, Green, Teas, (, lower, in, caffeine, ):&lt;, br, /&gt;*, Temple, of, Heaven, :, Gunpowder, Green, Tea, &lt;, br, /&gt;*, Monkey, ...]</td>\n",
       "      <td>[*****&lt;, br, /&gt;, numi, ', s, collect, assort, melang, includ, :&lt;, br, /&gt;, 5, herbal, tea, (, caffein, -, free, ,, also, call, \", teasan, \"):&lt;, br, /&gt;*, dri, desert, lime, :, lime, herbal, teasan, &lt;, br, /&gt;*, field, of, gold, :, lemongrass, herbal, teasan, &lt;, br, /&gt;*, red, mellow, bush, :, rooibo, herbal, teasan, &lt;, br, /&gt;*, bushmen, ', s, brew, :, honeybush, herbal, teasan, &lt;, br, /&gt;*, simpli, mint, :, moroccan, mint, &lt;, br, /&gt;&lt;, br, /&gt;, 2, green, tea, (, lower, in, caffein, ):&lt;, br, /&gt;*, templ, of, heaven, :, gunpowd, green, tea, &lt;, br, /&gt;*, monkey, ...]</td>\n",
       "      <td>*****&lt; br /&gt; numi ' s collect assort melang includ :&lt; br /&gt; 5 herbal tea ( caffein - free , also call \" teasan \"):&lt; br /&gt;* dri desert lime : lime herbal teasan &lt; br /&gt;* field of gold : lemongrass herbal teasan &lt; br /&gt;* red mellow bush : rooibo herbal teasan &lt; br /&gt;* bushmen ' s brew : honeybush herbal teasan &lt; br /&gt;* simpli mint : moroccan mint &lt; br /&gt;&lt; br /&gt; 2 green tea ( lower in caffein ):&lt; br /&gt;* templ of heaven : gunpowd green tea &lt; br /&gt;* monkey king : jasmin green tea &lt; br /&gt;&lt; br /&gt; 2 black tea ( contain caffein ):&lt; br /&gt;* chines breakfast : yunnan black tea &lt; br /&gt;* smoki tarri : lapsang souchong black tea &lt; br /&gt;&lt; br /&gt; this is a total of nine differ tea , two tea bag of each one in each box . numi tea are known for their high - qualiti , organ and kosher ingredi , and in my opinion , are some of the tastiest and best tea i have ever tri . they do not includ artifici ingredi or flavor .&lt; br /&gt;&lt; br /&gt; on the box , the manufactur write : \" from mist - cover mountain to sun - drench desert to fertil field , we proud bring you our tea palett . the flavor rang from smooth earthi , and light floral scent , to refresh sweet and sour note . what they all share is the recollect of how some ancient one tame fire and water to coexist harmoni , and steep in them the gift of natur . sinc that distant past , peopl have sooth , rous , heal , explor and celebr with these wonder infus . we encourag you to do the same with numi ' s finest .\"&lt; br /&gt;&lt; br /&gt; the price is perfect , a big save over singl box . if you like numi tea and want to sampl a wonder assort , get it --- you won ' t be sorri . there may be some you like and other you don ' t , but sampl them will be a delight experi . if you are new to numi this is an excel way to sampl their high - qualiti tea . i do not think you could find a better sourc of premium tea than numi .&lt; br /&gt;&lt; br /&gt; high recommend .&lt; br /&gt;*****</td>\n",
       "    </tr>\n",
       "    <tr>\n",
       "      <th>2</th>\n",
       "      <td>350901</td>\n",
       "      <td>B000LKTB90</td>\n",
       "      <td>A1BBPP1EC75JX4</td>\n",
       "      <td>Johan Bollen \"gekhond\"</td>\n",
       "      <td>0</td>\n",
       "      <td>0</td>\n",
       "      <td>5</td>\n",
       "      <td>1285977600</td>\n",
       "      <td>excellent gluten-free spaghetti: great taste, great structure</td>\n",
       "      <td>I was very careful not to overcook this pasta, making sure to take a bite every minute or so, and rinsed it with water as soon as it was al dente. It was all very easy and the result was absolutely *PERFECT*. This is one great tasting gluten-free pasta! My wife is Italian and she claims it is on par with some of the best wheat-based pasta she has had. My daughter has celiac disease and loved it too. I did notice a slight corn taste, but it was very pleasant and certainly not too pronounced. You could serve this pasta to your guests and they'd have no idea that this is a gluten-free, quinoa-based pasta.&lt;br /&gt;&lt;br /&gt;This product has tremendous value to us because it uses quinoa flour (one of my favorite \"grains\"), there are only two (2!) ingredients (quinoa and corn flour) that are both are organic, it is produced in a gluten-free facility, tastes great and has great structure (very nice al dente). A perfect combination!&lt;br /&gt;&lt;br /&gt;This product gets 5 stars and a glowing endorsement from all of us, and we are 2 discriminating foodies and a 7 year old with celiac disease.</td>\n",
       "      <td>1084</td>\n",
       "      <td>[I, was, very, careful, not, to, overcook, this, pasta, ,, making, sure, to, take, a, bite, every, minute, or, so, ,, and, rinsed, it, with, water, as, soon, as, it, was, al, dente, ., It, was, all, very, easy, and, the, result, was, absolutely, *, PERFECT, *., This, is, one, great, tasting, gluten, -, free, pasta, !, My, wife, is, Italian, and, she, claims, it, is, on, par, with, some, of, the, best, wheat, -, based, pasta, she, has, had, ., My, daughter, has, celiac, disease, and, loved, it, too, ., I, did, notice, a, slight, corn, taste, ,, but, ...]</td>\n",
       "      <td>[i, was, veri, care, not, to, overcook, this, pasta, ,, make, sure, to, take, a, bite, everi, minut, or, so, ,, and, rins, it, with, water, as, soon, as, it, was, al, dent, ., it, was, all, veri, easi, and, the, result, was, absolut, *, perfect, *., this, is, one, great, tast, gluten, -, free, pasta, !, my, wife, is, italian, and, she, claim, it, is, on, par, with, some, of, the, best, wheat, -, base, pasta, she, has, had, ., my, daughter, has, celiac, diseas, and, love, it, too, ., i, did, notic, a, slight, corn, tast, ,, but, ...]</td>\n",
       "      <td>i was veri care not to overcook this pasta , make sure to take a bite everi minut or so , and rins it with water as soon as it was al dent . it was all veri easi and the result was absolut * perfect *. this is one great tast gluten - free pasta ! my wife is italian and she claim it is on par with some of the best wheat - base pasta she has had . my daughter has celiac diseas and love it too . i did notic a slight corn tast , but it was veri pleasant and certain not too pronounc . you could serv this pasta to your guest and they ' d have no idea that this is a gluten - free , quinoa - base pasta .&lt; br /&gt;&lt; br /&gt; this product has tremend valu to us becaus it use quinoa flour ( one of my favorit \" grain \"), there are onli two ( 2 !) ingredi ( quinoa and corn flour ) that are both are organ , it is produc in a gluten - free facil , tast great and has great structur ( veri nice al dent ). a perfect combin !&lt; br /&gt;&lt; br /&gt; this product get 5 star and a glow endors from all of us , and we are 2 discrimin foodi and a 7 year old with celiac diseas .</td>\n",
       "    </tr>\n",
       "    <tr>\n",
       "      <th>3</th>\n",
       "      <td>299801</td>\n",
       "      <td>B001HXJPS2</td>\n",
       "      <td>A5QSI9MNS8NMS</td>\n",
       "      <td>M. Esaili</td>\n",
       "      <td>0</td>\n",
       "      <td>0</td>\n",
       "      <td>5</td>\n",
       "      <td>1338163200</td>\n",
       "      <td>Lindt is Lindt</td>\n",
       "      <td>Buying this multi-pack I was misled by the picture with whole hazel nuts. (Another proof how important is to read). But no problem. The chocolate is delicious like any Lindt's chocolate.</td>\n",
       "      <td>186</td>\n",
       "      <td>[Buying, this, multi, -, pack, I, was, misled, by, the, picture, with, whole, hazel, nuts, ., (, Another, proof, how, important, is, to, read, )., But, no, problem, ., The, chocolate, is, delicious, like, any, Lindt, ', s, chocolate, .]</td>\n",
       "      <td>[buy, this, multi, -, pack, i, was, misl, by, the, pictur, with, whole, hazel, nut, ., (, anoth, proof, how, import, is, to, read, )., but, no, problem, ., the, chocol, is, delici, like, ani, lindt, ', s, chocol, .]</td>\n",
       "      <td>buy this multi - pack i was misl by the pictur with whole hazel nut . ( anoth proof how import is to read ). but no problem . the chocol is delici like ani lindt ' s chocol .</td>\n",
       "    </tr>\n",
       "    <tr>\n",
       "      <th>4</th>\n",
       "      <td>48472</td>\n",
       "      <td>B006H34CUS</td>\n",
       "      <td>A20IBAIRSNBEAQ</td>\n",
       "      <td>Chelsea</td>\n",
       "      <td>0</td>\n",
       "      <td>0</td>\n",
       "      <td>5</td>\n",
       "      <td>1343606400</td>\n",
       "      <td>YUM!!!!!</td>\n",
       "      <td>These bars are so good! I loved them warmed up! I definitely think these are a great snack or breakfast! I received this product for free from influenster!</td>\n",
       "      <td>155</td>\n",
       "      <td>[These, bars, are, so, good, !, I, loved, them, warmed, up, !, I, definitely, think, these, are, a, great, snack, or, breakfast, !, I, received, this, product, for, free, from, influenster, !]</td>\n",
       "      <td>[these, bar, are, so, good, !, i, love, them, warm, up, !, i, definit, think, these, are, a, great, snack, or, breakfast, !, i, receiv, this, product, for, free, from, influenst, !]</td>\n",
       "      <td>these bar are so good ! i love them warm up ! i definit think these are a great snack or breakfast ! i receiv this product for free from influenst !</td>\n",
       "    </tr>\n",
       "  </tbody>\n",
       "</table>\n",
       "</div>"
      ],
      "text/plain": [
       "       Id   ProductId          UserId                      ProfileName  \\\n",
       "0  220291  B0034EDLS2  AVF82BC7S0IO7   Kbrown                            \n",
       "1  225833  B001I7HJE4  A1YUL9PCJR3JTY  O. Brown \"Ms. O. Khannah-Brown\"   \n",
       "2  350901  B000LKTB90  A1BBPP1EC75JX4  Johan Bollen \"gekhond\"            \n",
       "3  299801  B001HXJPS2  A5QSI9MNS8NMS   M. Esaili                         \n",
       "4  48472   B006H34CUS  A20IBAIRSNBEAQ  Chelsea                           \n",
       "\n",
       "   HelpfulnessNumerator  HelpfulnessDenominator  Score        Time  \\\n",
       "0  0                     0                       5      1332806400   \n",
       "1  1                     1                       5      1190160000   \n",
       "2  0                     0                       5      1285977600   \n",
       "3  0                     0                       5      1338163200   \n",
       "4  0                     0                       5      1343606400   \n",
       "\n",
       "                                                         Summary  \\\n",
       "0  Very Good                                                       \n",
       "1  Organic, Kosher, Tasty Assortment of Premium Teas & Teasans     \n",
       "2  excellent gluten-free spaghetti: great taste, great structure   \n",
       "3  Lindt is Lindt                                                  \n",
       "4  YUM!!!!!                                                        \n",
       "\n",
       "                                                                                                                                                                                                                                                                                                                                                                                                                                                                                                                                                                                                                                                                                                                                                                                                                                                                                                                                                                                                                                                                                                                                                                                                                                                                                                                                                                                                                                                                                                                                                                                                                                                                                                                                                                                                                                                                                                                                                                                                                 Text  \\\n",
       "0  I received this product early from the seller! They are a very tastey & a Great mid-day snack. I have shared them with my Glutten Free Friends & they will be ordering this product & more very soon.                                                                                                                                                                                                                                                                                                                                                                                                                                                                                                                                                                                                                                                                                                                                                                                                                                                                                                                                                                                                                                                                                                                                                                                                                                                                                                                                                                                                                                                                                                                                                                                                                                                                                                                                                                                                                \n",
       "1  *****<br />Numi's Collection Assortment Melange includes:<br />5 Herbal Teas (caffeine-free, also called \"teasans\"):<br />* Dry Desert Lime: Lime Herbal Teasan<br />* Fields of Gold: Lemongrass Herbal Teasan<br />* Red Mellow Bush: Rooibos Herbal Teasan<br />* Bushmen's Brew: Honeybush Herbal Teasan<br />* Simply Mint: Moroccan Mint<br /><br />2 Green Teas (lower in caffeine):<br />* Temple of Heaven: Gunpowder Green Tea<br />* Monkey King: Jasmine Green Tea<br /><br />2 Black Teas (contain caffeine):<br />* Chinese Breakfast: Yunnan Black Tea<br />* Smoky Tarry: Lapsang Souchong Black Tea<br /><br />This is a total of nine different teas, two tea bags of each one in each box. Numi teas are known for their high-quality, organic and kosher ingredients, and in my opinion, are some of the tastiest and best teas I have ever tried. They do not include artificial ingredients or flavorings.<br /><br />On the box, the manufacturer writes: \"From mist-covered mountains to sun-drenched deserts to fertile fields, we proudly bring you our tea palette. The flavors range from smooth earthiness, and light floral scents, to refreshingly sweet and sour notes. What they all share is the recollection of how some Ancient One tamed fire and water to coexist harmoniously, and steeped in them the gifts of Nature. Since that distant past, people have soothed, roused, healed, explored and celebrated with these wonderful infusions. We encourage you to do the same with Numi's finest.\"<br /><br />The price is perfect, a big savings over single boxes. If you like Numi teas and want to sample a wonderful assortment, get it---you won't be sorry. There may be some you like and others you don't, but sampling them will be a delightful experience. If you are new to Numi this is an excellent way to sample their high-quality teas. I do not think you could find a better source of premium tea than Numi.<br /><br />Highly recommended.<br />*****   \n",
       "2  I was very careful not to overcook this pasta, making sure to take a bite every minute or so, and rinsed it with water as soon as it was al dente. It was all very easy and the result was absolutely *PERFECT*. This is one great tasting gluten-free pasta! My wife is Italian and she claims it is on par with some of the best wheat-based pasta she has had. My daughter has celiac disease and loved it too. I did notice a slight corn taste, but it was very pleasant and certainly not too pronounced. You could serve this pasta to your guests and they'd have no idea that this is a gluten-free, quinoa-based pasta.<br /><br />This product has tremendous value to us because it uses quinoa flour (one of my favorite \"grains\"), there are only two (2!) ingredients (quinoa and corn flour) that are both are organic, it is produced in a gluten-free facility, tastes great and has great structure (very nice al dente). A perfect combination!<br /><br />This product gets 5 stars and a glowing endorsement from all of us, and we are 2 discriminating foodies and a 7 year old with celiac disease.                                                                                                                                                                                                                                                                                                                                                                                                                                                                                                                                                                                                                                                                                                                                                                                                                                                                                         \n",
       "3  Buying this multi-pack I was misled by the picture with whole hazel nuts. (Another proof how important is to read). But no problem. The chocolate is delicious like any Lindt's chocolate.                                                                                                                                                                                                                                                                                                                                                                                                                                                                                                                                                                                                                                                                                                                                                                                                                                                                                                                                                                                                                                                                                                                                                                                                                                                                                                                                                                                                                                                                                                                                                                                                                                                                                                                                                                                                                           \n",
       "4  These bars are so good! I loved them warmed up! I definitely think these are a great snack or breakfast! I received this product for free from influenster!                                                                                                                                                                                                                                                                                                                                                                                                                                                                                                                                                                                                                                                                                                                                                                                                                                                                                                                                                                                                                                                                                                                                                                                                                                                                                                                                                                                                                                                                                                                                                                                                                                                                                                                                                                                                                                                          \n",
       "\n",
       "   length  \\\n",
       "0  197      \n",
       "1  1938     \n",
       "2  1084     \n",
       "3  186      \n",
       "4  155      \n",
       "\n",
       "                                                                                                                                                                                                                                                                                                                                                                                                                                                                                                                                                                                                    Tokens  \\\n",
       "0  [I, received, this, product, early, from, the, seller, !, They, are, a, very, tastey, &, a, Great, mid, -, day, snack, ., I, have, shared, them, with, my, Glutten, Free, Friends, &, they, will, be, ordering, this, product, &, more, very, soon, .]                                                                                                                                                                                                                                                                                                                                                    \n",
       "1  [*****<, br, />, Numi, ', s, Collection, Assortment, Melange, includes, :<, br, />, 5, Herbal, Teas, (, caffeine, -, free, ,, also, called, \", teasans, \"):<, br, />*, Dry, Desert, Lime, :, Lime, Herbal, Teasan, <, br, />*, Fields, of, Gold, :, Lemongrass, Herbal, Teasan, <, br, />*, Red, Mellow, Bush, :, Rooibos, Herbal, Teasan, <, br, />*, Bushmen, ', s, Brew, :, Honeybush, Herbal, Teasan, <, br, />*, Simply, Mint, :, Moroccan, Mint, <, br, /><, br, />, 2, Green, Teas, (, lower, in, caffeine, ):<, br, />*, Temple, of, Heaven, :, Gunpowder, Green, Tea, <, br, />*, Monkey, ...]   \n",
       "2  [I, was, very, careful, not, to, overcook, this, pasta, ,, making, sure, to, take, a, bite, every, minute, or, so, ,, and, rinsed, it, with, water, as, soon, as, it, was, al, dente, ., It, was, all, very, easy, and, the, result, was, absolutely, *, PERFECT, *., This, is, one, great, tasting, gluten, -, free, pasta, !, My, wife, is, Italian, and, she, claims, it, is, on, par, with, some, of, the, best, wheat, -, based, pasta, she, has, had, ., My, daughter, has, celiac, disease, and, loved, it, too, ., I, did, notice, a, slight, corn, taste, ,, but, ...]                           \n",
       "3  [Buying, this, multi, -, pack, I, was, misled, by, the, picture, with, whole, hazel, nuts, ., (, Another, proof, how, important, is, to, read, )., But, no, problem, ., The, chocolate, is, delicious, like, any, Lindt, ', s, chocolate, .]                                                                                                                                                                                                                                                                                                                                                              \n",
       "4  [These, bars, are, so, good, !, I, loved, them, warmed, up, !, I, definitely, think, these, are, a, great, snack, or, breakfast, !, I, received, this, product, for, free, from, influenster, !]                                                                                                                                                                                                                                                                                                                                                                                                          \n",
       "\n",
       "                                                                                                                                                                                                                                                                                                                                                                                                                                                                                                                                                                             Stemmed  \\\n",
       "0  [i, receiv, this, product, earli, from, the, seller, !, they, are, a, veri, tastey, &, a, great, mid, -, day, snack, ., i, have, share, them, with, my, glutten, free, friend, &, they, will, be, order, this, product, &, more, veri, soon, .]                                                                                                                                                                                                                                                                                                                                     \n",
       "1  [*****<, br, />, numi, ', s, collect, assort, melang, includ, :<, br, />, 5, herbal, tea, (, caffein, -, free, ,, also, call, \", teasan, \"):<, br, />*, dri, desert, lime, :, lime, herbal, teasan, <, br, />*, field, of, gold, :, lemongrass, herbal, teasan, <, br, />*, red, mellow, bush, :, rooibo, herbal, teasan, <, br, />*, bushmen, ', s, brew, :, honeybush, herbal, teasan, <, br, />*, simpli, mint, :, moroccan, mint, <, br, /><, br, />, 2, green, tea, (, lower, in, caffein, ):<, br, />*, templ, of, heaven, :, gunpowd, green, tea, <, br, />*, monkey, ...]   \n",
       "2  [i, was, veri, care, not, to, overcook, this, pasta, ,, make, sure, to, take, a, bite, everi, minut, or, so, ,, and, rins, it, with, water, as, soon, as, it, was, al, dent, ., it, was, all, veri, easi, and, the, result, was, absolut, *, perfect, *., this, is, one, great, tast, gluten, -, free, pasta, !, my, wife, is, italian, and, she, claim, it, is, on, par, with, some, of, the, best, wheat, -, base, pasta, she, has, had, ., my, daughter, has, celiac, diseas, and, love, it, too, ., i, did, notic, a, slight, corn, tast, ,, but, ...]                          \n",
       "3  [buy, this, multi, -, pack, i, was, misl, by, the, pictur, with, whole, hazel, nut, ., (, anoth, proof, how, import, is, to, read, )., but, no, problem, ., the, chocol, is, delici, like, ani, lindt, ', s, chocol, .]                                                                                                                                                                                                                                                                                                                                                             \n",
       "4  [these, bar, are, so, good, !, i, love, them, warm, up, !, i, definit, think, these, are, a, great, snack, or, breakfast, !, i, receiv, this, product, for, free, from, influenst, !]                                                                                                                                                                                                                                                                                                                                                                                               \n",
       "\n",
       "                                                                                                                                                                                                                                                                                                                                                                                                                                                                                                                                                                                                                                                                                                                                                                                                                                                                                                                                                                                                                                                                                                                                                                                                                                                                                                                                                                                                                                                                                                                                                                                                                                                                                                                                                                                                                                                                                                                                                                  StemmedJoined  \n",
       "0  i receiv this product earli from the seller ! they are a veri tastey & a great mid - day snack . i have share them with my glutten free friend & they will be order this product & more veri soon .                                                                                                                                                                                                                                                                                                                                                                                                                                                                                                                                                                                                                                                                                                                                                                                                                                                                                                                                                                                                                                                                                                                                                                                                                                                                                                                                                                                                                                                                                                                                                                                                                                                                                                                                                                           \n",
       "1  *****< br /> numi ' s collect assort melang includ :< br /> 5 herbal tea ( caffein - free , also call \" teasan \"):< br />* dri desert lime : lime herbal teasan < br />* field of gold : lemongrass herbal teasan < br />* red mellow bush : rooibo herbal teasan < br />* bushmen ' s brew : honeybush herbal teasan < br />* simpli mint : moroccan mint < br />< br /> 2 green tea ( lower in caffein ):< br />* templ of heaven : gunpowd green tea < br />* monkey king : jasmin green tea < br />< br /> 2 black tea ( contain caffein ):< br />* chines breakfast : yunnan black tea < br />* smoki tarri : lapsang souchong black tea < br />< br /> this is a total of nine differ tea , two tea bag of each one in each box . numi tea are known for their high - qualiti , organ and kosher ingredi , and in my opinion , are some of the tastiest and best tea i have ever tri . they do not includ artifici ingredi or flavor .< br />< br /> on the box , the manufactur write : \" from mist - cover mountain to sun - drench desert to fertil field , we proud bring you our tea palett . the flavor rang from smooth earthi , and light floral scent , to refresh sweet and sour note . what they all share is the recollect of how some ancient one tame fire and water to coexist harmoni , and steep in them the gift of natur . sinc that distant past , peopl have sooth , rous , heal , explor and celebr with these wonder infus . we encourag you to do the same with numi ' s finest .\"< br />< br /> the price is perfect , a big save over singl box . if you like numi tea and want to sampl a wonder assort , get it --- you won ' t be sorri . there may be some you like and other you don ' t , but sampl them will be a delight experi . if you are new to numi this is an excel way to sampl their high - qualiti tea . i do not think you could find a better sourc of premium tea than numi .< br />< br /> high recommend .< br />*****  \n",
       "2  i was veri care not to overcook this pasta , make sure to take a bite everi minut or so , and rins it with water as soon as it was al dent . it was all veri easi and the result was absolut * perfect *. this is one great tast gluten - free pasta ! my wife is italian and she claim it is on par with some of the best wheat - base pasta she has had . my daughter has celiac diseas and love it too . i did notic a slight corn tast , but it was veri pleasant and certain not too pronounc . you could serv this pasta to your guest and they ' d have no idea that this is a gluten - free , quinoa - base pasta .< br />< br /> this product has tremend valu to us becaus it use quinoa flour ( one of my favorit \" grain \"), there are onli two ( 2 !) ingredi ( quinoa and corn flour ) that are both are organ , it is produc in a gluten - free facil , tast great and has great structur ( veri nice al dent ). a perfect combin !< br />< br /> this product get 5 star and a glow endors from all of us , and we are 2 discrimin foodi and a 7 year old with celiac diseas .                                                                                                                                                                                                                                                                                                                                                                                                                                                                                                                                                                                                                                                                                                                                                                                                                                                                                \n",
       "3  buy this multi - pack i was misl by the pictur with whole hazel nut . ( anoth proof how import is to read ). but no problem . the chocol is delici like ani lindt ' s chocol .                                                                                                                                                                                                                                                                                                                                                                                                                                                                                                                                                                                                                                                                                                                                                                                                                                                                                                                                                                                                                                                                                                                                                                                                                                                                                                                                                                                                                                                                                                                                                                                                                                                                                                                                                                                                \n",
       "4  these bar are so good ! i love them warm up ! i definit think these are a great snack or breakfast ! i receiv this product for free from influenst !                                                                                                                                                                                                                                                                                                                                                                                                                                                                                                                                                                                                                                                                                                                                                                                                                                                                                                                                                                                                                                                                                                                                                                                                                                                                                                                                                                                                                                                                                                                                                                                                                                                                                                                                                                                                                          "
      ]
     },
     "execution_count": 14,
     "metadata": {},
     "output_type": "execute_result"
    }
   ],
   "source": [
    "X.head()"
   ]
  },
  {
   "cell_type": "code",
   "execution_count": 15,
   "metadata": {},
   "outputs": [],
   "source": [
    "from sklearn.feature_extraction.text import CountVectorizer\n",
    "vec = CountVectorizer()\n",
    "bow_transformer = vec.fit(X['StemmedJoined'])"
   ]
  },
  {
   "cell_type": "code",
   "execution_count": 16,
   "metadata": {},
   "outputs": [],
   "source": [
    "review_bow = bow_transformer.transform(X['StemmedJoined'])"
   ]
  },
  {
   "cell_type": "code",
   "execution_count": 17,
   "metadata": {},
   "outputs": [],
   "source": [
    "from sklearn.feature_extraction.text import TfidfTransformer\n",
    "\n",
    "tfidf_transformer = TfidfTransformer().fit(review_bow)\n",
    "review_tfidf = tfidf_transformer.transform(review_bow)"
   ]
  },
  {
   "cell_type": "code",
   "execution_count": 18,
   "metadata": {},
   "outputs": [],
   "source": [
    "from sklearn.naive_bayes import MultinomialNB\n",
    "review_detect_model = MultinomialNB().fit(review_tfidf, X['Score'])"
   ]
  },
  {
   "cell_type": "code",
   "execution_count": 19,
   "metadata": {},
   "outputs": [
    {
     "name": "stdout",
     "output_type": "stream",
     "text": [
      "              precision    recall  f1-score   support\n",
      "\n",
      "           1       0.85      0.11      0.19     39193\n",
      "           2       0.35      0.00      0.00     22353\n",
      "           3       0.76      0.00      0.01     31993\n",
      "           4       0.73      0.01      0.02     60309\n",
      "           5       0.65      1.00      0.79    272492\n",
      "\n",
      "    accuracy                           0.65    426340\n",
      "   macro avg       0.67      0.23      0.20    426340\n",
      "weighted avg       0.67      0.65      0.52    426340\n",
      "\n"
     ]
    }
   ],
   "source": [
    "all_predictions = review_detect_model.predict(review_tfidf)\n",
    "from sklearn.metrics import classification_report\n",
    "print (classification_report(X['Score'], all_predictions))"
   ]
  },
  {
   "cell_type": "code",
   "execution_count": 20,
   "metadata": {},
   "outputs": [
    {
     "name": "stdout",
     "output_type": "stream",
     "text": [
      "              precision    recall  f1-score   support\n",
      "\n",
      "           1       0.75      0.78      0.76     39193\n",
      "           2       0.76      0.36      0.49     22353\n",
      "           3       0.69      0.43      0.53     31993\n",
      "           4       0.66      0.34      0.45     60309\n",
      "           5       0.82      0.97      0.89    272492\n",
      "\n",
      "    accuracy                           0.79    426340\n",
      "   macro avg       0.73      0.58      0.63    426340\n",
      "weighted avg       0.78      0.79      0.77    426340\n",
      "\n"
     ]
    }
   ],
   "source": [
    "from sklearn.svm import LinearSVC\n",
    "review_detect_model = LinearSVC().fit(review_tfidf, X['Score'])\n",
    "\n",
    "all_predictions = review_detect_model.predict(review_tfidf)\n",
    "from sklearn.metrics import classification_report\n",
    "print (classification_report(X['Score'], all_predictions))"
   ]
  },
  {
   "cell_type": "code",
   "execution_count": 18,
   "metadata": {},
   "outputs": [
    {
     "name": "stdout",
     "output_type": "stream",
     "text": [
      "341072 85268 426340\n"
     ]
    }
   ],
   "source": [
    "from sklearn.model_selection import train_test_split\n",
    "\n",
    "rev_train, rev_test, score_train, score_test =\\\n",
    "train_test_split(X['Text'], X['Score'], test_size=0.2)\n",
    "\n",
    "print(len(rev_train), len(rev_test), len(rev_train) + len(rev_test))"
   ]
  },
  {
   "cell_type": "markdown",
   "metadata": {},
   "source": [
    "### Naive Bayes"
   ]
  },
  {
   "cell_type": "code",
   "execution_count": 23,
   "metadata": {},
   "outputs": [
    {
     "name": "stdout",
     "output_type": "stream",
     "text": [
      "              precision    recall  f1-score   support\n",
      "\n",
      "           1       0.01      0.99      0.02        73\n",
      "           2       0.00      0.00      0.00         0\n",
      "           3       0.00      1.00      0.00        16\n",
      "           4       0.00      1.00      0.01        33\n",
      "           5       1.00      0.64      0.78     85146\n",
      "\n",
      "    accuracy                           0.64     85268\n",
      "   macro avg       0.20      0.73      0.16     85268\n",
      "weighted avg       1.00      0.64      0.78     85268\n",
      "\n"
     ]
    }
   ],
   "source": [
    "from sklearn.pipeline import Pipeline\n",
    "\n",
    "pipeline = Pipeline([\n",
    "    ('bow', CountVectorizer(ngram_range=(1,3))),  \n",
    "    ('tfidf', TfidfTransformer()),  \n",
    "    ('classifier', MultinomialNB()), \n",
    "])\n",
    "\n",
    "pipeline.fit(rev_train,score_train)\n",
    "\n",
    "predictions = pipeline.predict(rev_test)\n",
    "print(classification_report(predictions,score_test))"
   ]
  },
  {
   "cell_type": "markdown",
   "metadata": {},
   "source": [
    "### Support Vector Machine"
   ]
  },
  {
   "cell_type": "code",
   "execution_count": 24,
   "metadata": {},
   "outputs": [
    {
     "name": "stdout",
     "output_type": "stream",
     "text": [
      "              precision    recall  f1-score   support\n",
      "\n",
      "           1       0.83      0.78      0.80      8319\n",
      "           2       0.46      0.75      0.57      2700\n",
      "           3       0.56      0.71      0.63      5077\n",
      "           4       0.55      0.74      0.63      9101\n",
      "           5       0.97      0.88      0.92     60071\n",
      "\n",
      "    accuracy                           0.84     85268\n",
      "   macro avg       0.67      0.77      0.71     85268\n",
      "weighted avg       0.87      0.84      0.85     85268\n",
      "\n"
     ]
    }
   ],
   "source": [
    "from sklearn.svm import LinearSVC\n",
    "\n",
    "clf_linearSVC_pipe = Pipeline([\n",
    "    ('bow', CountVectorizer(ngram_range=(1,3))),  \n",
    "    ('tfidf', TfidfTransformer()),  \n",
    "    (\"clf_linearSVC\", LinearSVC()),  \n",
    "])\n",
    "\n",
    "clf_linearSVC_pipe.fit(rev_train,score_train)\n",
    "\n",
    "predictedLinearSVC = clf_linearSVC_pipe.predict(test_set)\n",
    "print(classification_report(predictedLinearSVC,labels))"
   ]
  },
  {
   "cell_type": "markdown",
   "metadata": {},
   "source": [
    "### Decision Trees"
   ]
  },
  {
   "cell_type": "code",
   "execution_count": null,
   "metadata": {},
   "outputs": [],
   "source": [
    "from sklearn.tree import DecisionTreeClassifier\n",
    "\n",
    "clf_decisionTree_pipe = Pipeline([\n",
    "    ('bow', CountVectorizer(ngram_range=(1, 3))),  \n",
    "    ('tfidf', TfidfTransformer()),  \n",
    "    (\"clf_decisionTree\", DecisionTreeClassifier()),  \n",
    "])\n",
    "\n",
    "clf_decisionTree_pipe.fit(rev_train,score_train)\n",
    "\n",
    "predictedDecisionTree  = clf_decisionTree_pipe.predict(rev_test)\n",
    "print(classification_report(predictedDecisionTree,score_test))"
   ]
  },
  {
   "cell_type": "markdown",
   "metadata": {},
   "source": [
    "### Random Forest\n"
   ]
  },
  {
   "cell_type": "code",
   "execution_count": 30,
   "metadata": {},
   "outputs": [
    {
     "name": "stdout",
     "output_type": "stream",
     "text": [
      "              precision    recall  f1-score   support\n",
      "\n",
      "           1       0.42      0.98      0.59      3353\n",
      "           2       0.36      0.99      0.53      1585\n",
      "           3       0.36      0.99      0.53      2362\n",
      "           4       0.36      0.99      0.53      4452\n",
      "           5       1.00      0.74      0.85     73516\n",
      "\n",
      "    accuracy                           0.77     85268\n",
      "   macro avg       0.50      0.94      0.60     85268\n",
      "weighted avg       0.91      0.77      0.81     85268\n",
      "\n"
     ]
    }
   ],
   "source": [
    "from sklearn.ensemble import RandomForestClassifier\n",
    "\n",
    "clf_randomForest_pipe = Pipeline([\n",
    "    ('bow', CountVectorizer(ngram_range=(1, 3))),  \n",
    "    ('tfidf', TfidfTransformer()),  \n",
    "    (\"clf_randomForest\", RandomForestClassifier()),  \n",
    "])\n",
    "\n",
    "clf_randomForest_pipe.fit(rev_train,score_train)\n",
    "\n",
    "predictedRandomForest = clf_randomForest_pipe.predict(rev_test)\n",
    "print(classification_report(predictedRandomForest,score_test))"
   ]
  },
  {
   "cell_type": "code",
   "execution_count": 23,
   "metadata": {},
   "outputs": [
    {
     "name": "stdout",
     "output_type": "stream",
     "text": [
      "Best cross-validation score: 0.83\n",
      "Best parameters:\n",
      "{'tfidfvectorizer__ngram_range': (1, 3)}\n"
     ]
    }
   ],
   "source": [
    "from sklearn.model_selection import GridSearchCV\n",
    "from sklearn.model_selection import cross_val_score\n",
    "from sklearn.svm import LinearSVC\n",
    "from sklearn.pipeline import make_pipeline\n",
    "\n",
    "pipe = make_pipeline(TfidfVectorizer(min_df=5), LinearSVC())\n",
    "param_grid = {\"tfidfvectorizer__ngram_range\": [(1, 1), (1, 2), (1, 3)]}\n",
    "\n",
    "grid = GridSearchCV(pipe, param_grid, cv=5)\n",
    "grid.fit(rev_train,score_train)\n",
    "print(\"Best cross-validation score: {:.2f}\".format(grid.best_score_))\n",
    "print(\"Best parameters:\\n{}\".format(grid.best_params_))"
   ]
  },
  {
   "cell_type": "code",
   "execution_count": 24,
   "metadata": {},
   "outputs": [
    {
     "name": "stdout",
     "output_type": "stream",
     "text": [
      "Features with lowest tfidf:\n",
      "['grandsons br' 'fifty families' 'adult daughter was' 'my nabisco'\n",
      " 'my nabisco oreo' 'my oldest grandson' 'to overindulge br'\n",
      " 'guesswork involved' 'guesswork involved each' 'controlled portion of'\n",
      " 'you put nabisco' 'was 200 calories' 'with five individual' 'was 200'\n",
      " 'many calories my' 'older brother or' 'dedication to eating'\n",
      " 'oldest grandson' 'oldest grandson ate' 'color with thin']\n",
      "Features with highest tfidf: \n",
      "['kimchi' 'cavender' 'love love' 'love love love' 'crabmeat'\n",
      " 'they are excellent' 'gochujang' 'catchup' 'fg' 'shiitakes' 'mm'\n",
      " 'buy don' 'jf' 'good fat' 'ranch' 'la la' 'good good good' 'is is' 'word'\n",
      " 'carmel']\n"
     ]
    }
   ],
   "source": [
    "vectorizer = grid.best_estimator_.named_steps[\"tfidfvectorizer\"]\n",
    "X_train = vectorizer.transform(rev_train)\n",
    "max_value = X_train.max(axis=0).toarray().ravel()\n",
    "sorted_by_tfidf = max_value.argsort() \n",
    "feature_names = np.array(vectorizer.get_feature_names())\n",
    "\n",
    "print(\"Features with lowest tfidf:\\n{}\".format(\n",
    "    feature_names[sorted_by_tfidf[:20]]))\n",
    "\n",
    "print(\"Features with highest tfidf: \\n{}\".format(\n",
    "    feature_names[sorted_by_tfidf[-20:]]))"
   ]
  },
  {
   "cell_type": "code",
   "execution_count": null,
   "metadata": {},
   "outputs": [],
   "source": [
    "\n"
   ]
  }
 ],
 "metadata": {
  "kernelspec": {
   "display_name": "Python 3",
   "language": "python",
   "name": "python3"
  },
  "language_info": {
   "codemirror_mode": {
    "name": "ipython",
    "version": 3
   },
   "file_extension": ".py",
   "mimetype": "text/x-python",
   "name": "python",
   "nbconvert_exporter": "python",
   "pygments_lexer": "ipython3",
   "version": "3.8.3"
  }
 },
 "nbformat": 4,
 "nbformat_minor": 4
}
