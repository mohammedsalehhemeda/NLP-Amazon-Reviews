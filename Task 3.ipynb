{
  "nbformat": 4,
  "nbformat_minor": 0,
  "metadata": {
    "colab": {
      "name": "F21TA_CW1-Q5.ipynb",
      "provenance": [],
      "collapsed_sections": [
        "17wEKfXoPGq6",
        "ZwPcg4jXWcNo",
        "sVz8MrsiEQAa",
        "_mPOK7SYEeeN",
        "z_fSlkL1EjDw"
      ],
      "toc_visible": true
    },
    "kernelspec": {
      "display_name": "Python 3",
      "name": "python3"
    },
    "accelerator": "GPU"
  },
  "cells": [
    {
      "cell_type": "markdown",
      "metadata": {
        "id": "17wEKfXoPGq6"
      },
      "source": [
        "# IMPORTING\n",
        "\n",
        "importing all required libraries and dataset"
      ]
    },
    {
      "cell_type": "code",
      "metadata": {
        "collapsed": true,
        "id": "g8WNn0zvPdyd",
        "colab": {
          "base_uri": "https://localhost:8080/"
        },
        "outputId": "6d2f425d-a1fb-471b-8c2b-fc0dd0cbcc63"
      },
      "source": [
        "!pip install emoji\n",
        "!pip install fsspec\n",
        "!pip install gcsfs"
      ],
      "execution_count": 1,
      "outputs": [
        {
          "output_type": "stream",
          "text": [
            "Collecting emoji\n",
            "\u001b[?25l  Downloading https://files.pythonhosted.org/packages/24/fa/b3368f41b95a286f8d300e323449ab4e86b85334c2e0b477e94422b8ed0f/emoji-1.2.0-py3-none-any.whl (131kB)\n",
            "\r\u001b[K     |██▌                             | 10kB 20.3MB/s eta 0:00:01\r\u001b[K     |█████                           | 20kB 27.6MB/s eta 0:00:01\r\u001b[K     |███████▌                        | 30kB 21.3MB/s eta 0:00:01\r\u001b[K     |██████████                      | 40kB 24.7MB/s eta 0:00:01\r\u001b[K     |████████████▌                   | 51kB 26.5MB/s eta 0:00:01\r\u001b[K     |███████████████                 | 61kB 28.8MB/s eta 0:00:01\r\u001b[K     |█████████████████▌              | 71kB 19.2MB/s eta 0:00:01\r\u001b[K     |████████████████████            | 81kB 20.3MB/s eta 0:00:01\r\u001b[K     |██████████████████████▌         | 92kB 18.6MB/s eta 0:00:01\r\u001b[K     |█████████████████████████       | 102kB 19.0MB/s eta 0:00:01\r\u001b[K     |███████████████████████████▌    | 112kB 19.0MB/s eta 0:00:01\r\u001b[K     |██████████████████████████████  | 122kB 19.0MB/s eta 0:00:01\r\u001b[K     |████████████████████████████████| 133kB 19.0MB/s \n",
            "\u001b[?25hInstalling collected packages: emoji\n",
            "Successfully installed emoji-1.2.0\n",
            "Collecting fsspec\n",
            "\u001b[?25l  Downloading https://files.pythonhosted.org/packages/91/0d/a6bfee0ddf47b254286b9bd574e6f50978c69897647ae15b14230711806e/fsspec-0.8.7-py3-none-any.whl (103kB)\n",
            "\u001b[K     |████████████████████████████████| 112kB 17.0MB/s \n",
            "\u001b[?25hRequirement already satisfied: importlib-metadata; python_version < \"3.8\" in /usr/local/lib/python3.7/dist-packages (from fsspec) (3.7.0)\n",
            "Requirement already satisfied: typing-extensions>=3.6.4; python_version < \"3.8\" in /usr/local/lib/python3.7/dist-packages (from importlib-metadata; python_version < \"3.8\"->fsspec) (3.7.4.3)\n",
            "Requirement already satisfied: zipp>=0.5 in /usr/local/lib/python3.7/dist-packages (from importlib-metadata; python_version < \"3.8\"->fsspec) (3.4.1)\n",
            "Installing collected packages: fsspec\n",
            "Successfully installed fsspec-0.8.7\n",
            "Collecting gcsfs\n",
            "  Downloading https://files.pythonhosted.org/packages/ef/7a/c847e1a170be1836d8df2d3e0449b349b06c90a627914196e084b75b0284/gcsfs-0.7.2-py2.py3-none-any.whl\n",
            "Collecting aiohttp\n",
            "\u001b[?25l  Downloading https://files.pythonhosted.org/packages/88/c0/5890b4c8b04a79b7360e8fe4490feb0bb3ab179743f199f0e6220cebd568/aiohttp-3.7.4.post0-cp37-cp37m-manylinux2014_x86_64.whl (1.3MB)\n",
            "\u001b[K     |████████████████████████████████| 1.3MB 20.3MB/s \n",
            "\u001b[?25hRequirement already satisfied: google-auth>=1.2 in /usr/local/lib/python3.7/dist-packages (from gcsfs) (1.27.1)\n",
            "Requirement already satisfied: google-auth-oauthlib in /usr/local/lib/python3.7/dist-packages (from gcsfs) (0.4.3)\n",
            "Requirement already satisfied: requests in /usr/local/lib/python3.7/dist-packages (from gcsfs) (2.23.0)\n",
            "Requirement already satisfied: decorator in /usr/local/lib/python3.7/dist-packages (from gcsfs) (4.4.2)\n",
            "Requirement already satisfied: fsspec>=0.8.0 in /usr/local/lib/python3.7/dist-packages (from gcsfs) (0.8.7)\n",
            "Requirement already satisfied: chardet<5.0,>=2.0 in /usr/local/lib/python3.7/dist-packages (from aiohttp->gcsfs) (3.0.4)\n",
            "Collecting multidict<7.0,>=4.5\n",
            "\u001b[?25l  Downloading https://files.pythonhosted.org/packages/7c/a6/4123b8165acbe773d1a8dc8e3f0d1edea16d29f7de018eda769abb56bd30/multidict-5.1.0-cp37-cp37m-manylinux2014_x86_64.whl (142kB)\n",
            "\u001b[K     |████████████████████████████████| 143kB 49.6MB/s \n",
            "\u001b[?25hRequirement already satisfied: typing-extensions>=3.6.5 in /usr/local/lib/python3.7/dist-packages (from aiohttp->gcsfs) (3.7.4.3)\n",
            "Requirement already satisfied: attrs>=17.3.0 in /usr/local/lib/python3.7/dist-packages (from aiohttp->gcsfs) (20.3.0)\n",
            "Collecting yarl<2.0,>=1.0\n",
            "\u001b[?25l  Downloading https://files.pythonhosted.org/packages/f1/62/046834c5fc998c88ab2ef722f5d42122230a632212c8afa76418324f53ff/yarl-1.6.3-cp37-cp37m-manylinux2014_x86_64.whl (294kB)\n",
            "\u001b[K     |████████████████████████████████| 296kB 50.8MB/s \n",
            "\u001b[?25hCollecting async-timeout<4.0,>=3.0\n",
            "  Downloading https://files.pythonhosted.org/packages/e1/1e/5a4441be21b0726c4464f3f23c8b19628372f606755a9d2e46c187e65ec4/async_timeout-3.0.1-py3-none-any.whl\n",
            "Requirement already satisfied: pyasn1-modules>=0.2.1 in /usr/local/lib/python3.7/dist-packages (from google-auth>=1.2->gcsfs) (0.2.8)\n",
            "Requirement already satisfied: setuptools>=40.3.0 in /usr/local/lib/python3.7/dist-packages (from google-auth>=1.2->gcsfs) (54.0.0)\n",
            "Requirement already satisfied: rsa<5,>=3.1.4; python_version >= \"3.6\" in /usr/local/lib/python3.7/dist-packages (from google-auth>=1.2->gcsfs) (4.7.2)\n",
            "Requirement already satisfied: cachetools<5.0,>=2.0.0 in /usr/local/lib/python3.7/dist-packages (from google-auth>=1.2->gcsfs) (4.2.1)\n",
            "Requirement already satisfied: six>=1.9.0 in /usr/local/lib/python3.7/dist-packages (from google-auth>=1.2->gcsfs) (1.15.0)\n",
            "Requirement already satisfied: requests-oauthlib>=0.7.0 in /usr/local/lib/python3.7/dist-packages (from google-auth-oauthlib->gcsfs) (1.3.0)\n",
            "Requirement already satisfied: urllib3!=1.25.0,!=1.25.1,<1.26,>=1.21.1 in /usr/local/lib/python3.7/dist-packages (from requests->gcsfs) (1.24.3)\n",
            "Requirement already satisfied: certifi>=2017.4.17 in /usr/local/lib/python3.7/dist-packages (from requests->gcsfs) (2020.12.5)\n",
            "Requirement already satisfied: idna<3,>=2.5 in /usr/local/lib/python3.7/dist-packages (from requests->gcsfs) (2.10)\n",
            "Requirement already satisfied: importlib-metadata; python_version < \"3.8\" in /usr/local/lib/python3.7/dist-packages (from fsspec>=0.8.0->gcsfs) (3.7.0)\n",
            "Requirement already satisfied: pyasn1<0.5.0,>=0.4.6 in /usr/local/lib/python3.7/dist-packages (from pyasn1-modules>=0.2.1->google-auth>=1.2->gcsfs) (0.4.8)\n",
            "Requirement already satisfied: oauthlib>=3.0.0 in /usr/local/lib/python3.7/dist-packages (from requests-oauthlib>=0.7.0->google-auth-oauthlib->gcsfs) (3.1.0)\n",
            "Requirement already satisfied: zipp>=0.5 in /usr/local/lib/python3.7/dist-packages (from importlib-metadata; python_version < \"3.8\"->fsspec>=0.8.0->gcsfs) (3.4.1)\n",
            "Installing collected packages: multidict, yarl, async-timeout, aiohttp, gcsfs\n",
            "Successfully installed aiohttp-3.7.4.post0 async-timeout-3.0.1 gcsfs-0.7.2 multidict-5.1.0 yarl-1.6.3\n"
          ],
          "name": "stdout"
        }
      ]
    },
    {
      "cell_type": "code",
      "metadata": {
        "id": "ZNWewjesPF-Q",
        "colab": {
          "base_uri": "https://localhost:8080/"
        },
        "outputId": "1211c8f2-7f1b-4077-aba6-4bde31602f4c"
      },
      "source": [
        "import numpy as np \n",
        "import pandas as pd \n",
        "pd.set_option('display.max_colwidth', -1)\n",
        "from time import time\n",
        "import re\n",
        "import string\n",
        "import os\n",
        "import emoji\n",
        "from pprint import pprint\n",
        "import collections\n",
        "\n",
        "import matplotlib.pyplot as plt\n",
        "\n",
        "\n",
        "from sklearn.base import BaseEstimator, TransformerMixin\n",
        "from sklearn.feature_extraction.text import CountVectorizer\n",
        "from sklearn.feature_extraction.text import TfidfVectorizer\n",
        "from sklearn.model_selection import GridSearchCV\n",
        "from sklearn.model_selection import train_test_split\n",
        "from sklearn.pipeline import Pipeline, FeatureUnion\n",
        "from sklearn.metrics import classification_report\n",
        "\n",
        "from sklearn.naive_bayes import MultinomialNB\n",
        "from sklearn.linear_model import LogisticRegression\n",
        "\n",
        "from nltk.corpus import stopwords\n",
        "from nltk.stem import PorterStemmer\n",
        "from nltk.tokenize import word_tokenize\n",
        "\n",
        "import warnings\n",
        "warnings.filterwarnings('ignore')\n",
        "\n",
        "np.random.seed(37)"
      ],
      "execution_count": 2,
      "outputs": [
        {
          "output_type": "stream",
          "text": [
            "/usr/local/lib/python3.7/dist-packages/ipykernel_launcher.py:3: FutureWarning: Passing a negative integer is deprecated in version 1.0 and will not be supported in future version. Instead, use None to not limit the column width.\n",
            "  This is separate from the ipykernel package so we can avoid doing imports until\n"
          ],
          "name": "stderr"
        }
      ]
    },
    {
      "cell_type": "code",
      "metadata": {
        "id": "hMMD2z9dPt-f"
      },
      "source": [
        "train_data = pd.read_csv(\"gs://omar-ds-lab/ta-cw1/train.csv\")"
      ],
      "execution_count": 3,
      "outputs": []
    },
    {
      "cell_type": "markdown",
      "metadata": {
        "id": "ZwPcg4jXWcNo"
      },
      "source": [
        "# Helper Functions"
      ]
    },
    {
      "cell_type": "code",
      "metadata": {
        "id": "OnVld5L6WgEr"
      },
      "source": [
        "# Callback for plotting\n",
        "# TODO: move this to a helper file\n",
        "\n",
        "from tensorflow.keras.callbacks import Callback\n",
        "from IPython.display import clear_output\n",
        "\n",
        "# For plotting the learning curve in real time\n",
        "class TrainingPlot(Callback):\n",
        "    \n",
        "    # This function is called when the training begins\n",
        "    def on_train_begin(self, logs={}):\n",
        "        # Initialize the lists for holding the logs, losses and accuracies\n",
        "        self.losses = []\n",
        "        self.acc = []\n",
        "        self.val_losses = []\n",
        "        self.val_acc = []\n",
        "        self.logs = []\n",
        "        self.max_acc = 0\n",
        "    \n",
        "    # This function is called at the end of each epoch\n",
        "    def on_epoch_end(self, epoch, logs={}):\n",
        "        \n",
        "        # Append the logs, losses and accuracies to the lists\n",
        "        self.logs.append(logs)\n",
        "        self.losses.append(logs.get('loss'))\n",
        "        self.acc.append(logs.get('accuracy'))\n",
        "        self.val_losses.append(logs.get('val_loss'))\n",
        "        self.val_acc.append(logs.get('val_accuracy'))\n",
        "        self.max_acc = max(self.max_acc, logs.get('val_accuracy'))\n",
        "        \n",
        "        # Before plotting ensure at least 2 epochs have passed\n",
        "        if self.losses:\n",
        "          if len(self.losses) > 1:\n",
        "              \n",
        "              # Clear the previous plot\n",
        "              clear_output(wait=True)\n",
        "              N = np.arange(0, len(self.losses))\n",
        "              \n",
        "              # Plot train loss, train acc, val loss and val acc against epochs passed\n",
        "              plt.figure(figsize=(8,3))\n",
        "              plt.plot(N, self.losses, lw=2, c=\"b\", linestyle=\"-\", label = \"train_loss\")\n",
        "              plt.plot(N, self.acc, lw=2, c=\"r\", linestyle=\"-\", label = \"train_acc\")\n",
        "              plt.plot(N, self.val_losses, lw=2, c=\"b\", linestyle=\":\", label = \"val_loss\")\n",
        "              plt.plot(N, self.val_acc, lw=2, c=\"r\", linestyle=\":\", label = \"val_acc\")\n",
        "              plt.title(\"Training Loss and Accuracy [Epoch {}, Max Acc {:.4f}]\".format(epoch, self.max_acc))\n",
        "              plt.xlabel(\"Epoch #\")\n",
        "              plt.ylabel(\"Loss/Accuracy\")\n",
        "              plt.legend()\n",
        "              plt.show()\n",
        "            \n",
        "plot_losses = TrainingPlot()"
      ],
      "execution_count": 4,
      "outputs": []
    },
    {
      "cell_type": "code",
      "metadata": {
        "colab": {
          "base_uri": "https://localhost:8080/"
        },
        "id": "fuCfkw1PczPB",
        "outputId": "94722047-f7b8-460d-9451-e9260b93afeb"
      },
      "source": [
        "import nltk\n",
        "nltk.download('stopwords')\n",
        "nltk.download('punkt')"
      ],
      "execution_count": 5,
      "outputs": [
        {
          "output_type": "stream",
          "text": [
            "[nltk_data] Downloading package stopwords to /root/nltk_data...\n",
            "[nltk_data]   Unzipping corpora/stopwords.zip.\n",
            "[nltk_data] Downloading package punkt to /root/nltk_data...\n",
            "[nltk_data]   Unzipping tokenizers/punkt.zip.\n"
          ],
          "name": "stdout"
        },
        {
          "output_type": "execute_result",
          "data": {
            "text/plain": [
              "True"
            ]
          },
          "metadata": {
            "tags": []
          },
          "execution_count": 5
        }
      ]
    },
    {
      "cell_type": "code",
      "metadata": {
        "id": "FXT_LH1oc06X"
      },
      "source": [
        "def remove_mentions(input_text):\n",
        "  return re.sub(r'@\\w+', '', input_text)\n",
        "\n",
        "def remove_urls(input_text):\n",
        "  return re.sub(r'http.?://[^\\s]+[\\s]?', '', input_text)\n",
        "\n",
        "def emoji_oneword(input_text):\n",
        "  # By compressing the underscore, the emoji is kept as one word\n",
        "  return input_text.replace('_','')\n",
        "\n",
        "def remove_punctuation(input_text):\n",
        "  # Make translation table\n",
        "  punct = string.punctuation\n",
        "  trantab = str.maketrans(punct, len(punct)*' ')  # Every punctuation symbol will be replaced by a space\n",
        "  return input_text.translate(trantab)\n",
        "\n",
        "def remove_digits(input_text):\n",
        "  return re.sub('\\d+', '', input_text)\n",
        "\n",
        "def to_lower(input_text):\n",
        "  return input_text.lower()\n",
        "\n",
        "def remove_stopwords(input_text):\n",
        "  stopwords_list = stopwords.words('english')\n",
        "  # Some words which might indicate a certain sentiment are kept via a whitelist\n",
        "  whitelist = [\"n't\", \"not\", \"no\"]\n",
        "  words = input_text.split() \n",
        "  clean_words = [word for word in words if (word not in stopwords_list or word in whitelist) and len(word) > 1] \n",
        "  return \" \".join(clean_words) \n",
        "\n",
        "def stemming(input_text):\n",
        "  porter = PorterStemmer()\n",
        "  words = input_text.split() \n",
        "  stemmed_words = [porter.stem(word) for word in words]\n",
        "  return \" \".join(stemmed_words)\n",
        "\n",
        "def fit(X, y=None, **fit_params):\n",
        "  return self\n",
        "\n",
        "def transform(X):\n",
        "  clean_X = remove_mentions(X)\n",
        "  clean_X = remove_urls(clean_X)\n",
        "  clean_X = emoji_oneword(clean_X)\n",
        "  clean_X = remove_punctuation(clean_X)\n",
        "  clean_X = remove_digits(clean_X)\n",
        "  clean_X = to_lower(clean_X)\n",
        "  clean_X = remove_stopwords(clean_X)\n",
        "  clean_X = stemming(clean_X)\n",
        "  return clean_X\n",
        "\n",
        "def text_clean(X):\n",
        "  clean_X = remove_mentions(X)\n",
        "  clean_X = remove_urls(clean_X)\n",
        "  clean_X = emoji_oneword(clean_X)\n",
        "  clean_X = remove_punctuation(clean_X)\n",
        "  clean_X = remove_digits(clean_X)\n",
        "  clean_X = to_lower(clean_X)\n",
        "  clean_X = remove_stopwords(clean_X)\n",
        "  #clean_X = stemming(clean_X)\n",
        "  return clean_X"
      ],
      "execution_count": 6,
      "outputs": []
    },
    {
      "cell_type": "code",
      "metadata": {
        "id": "ePbQKbrHDTVZ"
      },
      "source": [
        "# Create an iterator object that returns words properly formatted for Word2Vec training\n",
        "class ReviewsIterator:\n",
        "    def __init__(self, dataset, text_column=0):\n",
        "        self.dataset = dataset\n",
        "        self.text_column = text_column\n",
        "\n",
        "        # The text contains a stupid special character, hence the + '–'\n",
        "        self.translator = str.maketrans('', '', string.punctuation + '–')\n",
        "\n",
        "    def __iter__(self):\n",
        "        for news in self.dataset.iloc[:, self.text_column]:\n",
        "            # Make all characters lower-case\n",
        "            news = news.lower()\n",
        "            for sentence in news.split('.')[:-1]:\n",
        "                # Clean string of all punctuation\n",
        "                sentence = sentence.translate(self.translator)\n",
        "\n",
        "                words = [w for w in sentence.split(' ') if w != '']\n",
        "\n",
        "                yield words"
      ],
      "execution_count": 7,
      "outputs": []
    },
    {
      "cell_type": "markdown",
      "metadata": {
        "id": "sVz8MrsiEQAa"
      },
      "source": [
        "# Data Preparation"
      ]
    },
    {
      "cell_type": "code",
      "metadata": {
        "id": "TJrGMFjVeUlZ"
      },
      "source": [
        "#Variables\n",
        "import tensorflow as tf\n",
        "from tensorflow.keras.preprocessing.text import Tokenizer\n",
        "from tensorflow.keras.preprocessing.sequence import pad_sequences\n",
        "\n",
        "vocab_size = 5000\n",
        "embedding_dim = 64\n",
        "max_length = 500\n",
        "trunc_type = 'post'\n",
        "padding_type = 'post'\n",
        "oov_tok = '<OOV>'\n",
        "training_portion = .8"
      ],
      "execution_count": 8,
      "outputs": []
    },
    {
      "cell_type": "code",
      "metadata": {
        "colab": {
          "base_uri": "https://localhost:8080/",
          "height": 0
        },
        "id": "DZTPB4AaPoUy",
        "outputId": "917a6cf9-63c0-4ca4-a847-1db37c1135e2"
      },
      "source": [
        "train_data.head(1)"
      ],
      "execution_count": 9,
      "outputs": [
        {
          "output_type": "execute_result",
          "data": {
            "text/html": [
              "<div>\n",
              "<style scoped>\n",
              "    .dataframe tbody tr th:only-of-type {\n",
              "        vertical-align: middle;\n",
              "    }\n",
              "\n",
              "    .dataframe tbody tr th {\n",
              "        vertical-align: top;\n",
              "    }\n",
              "\n",
              "    .dataframe thead th {\n",
              "        text-align: right;\n",
              "    }\n",
              "</style>\n",
              "<table border=\"1\" class=\"dataframe\">\n",
              "  <thead>\n",
              "    <tr style=\"text-align: right;\">\n",
              "      <th></th>\n",
              "      <th>Id</th>\n",
              "      <th>ProductId</th>\n",
              "      <th>UserId</th>\n",
              "      <th>ProfileName</th>\n",
              "      <th>HelpfulnessNumerator</th>\n",
              "      <th>HelpfulnessDenominator</th>\n",
              "      <th>Score</th>\n",
              "      <th>Time</th>\n",
              "      <th>Summary</th>\n",
              "      <th>Text</th>\n",
              "    </tr>\n",
              "  </thead>\n",
              "  <tbody>\n",
              "    <tr>\n",
              "      <th>0</th>\n",
              "      <td>220291</td>\n",
              "      <td>B0034EDLS2</td>\n",
              "      <td>AVF82BC7S0IO7</td>\n",
              "      <td>Kbrown</td>\n",
              "      <td>0</td>\n",
              "      <td>0</td>\n",
              "      <td>5</td>\n",
              "      <td>1332806400</td>\n",
              "      <td>Very Good</td>\n",
              "      <td>I received this product early from the seller! They are a very tastey &amp; a Great mid-day snack. I have shared them with my Glutten Free Friends &amp; they will be ordering this product &amp; more very soon.</td>\n",
              "    </tr>\n",
              "  </tbody>\n",
              "</table>\n",
              "</div>"
            ],
            "text/plain": [
              "       Id  ...                                                                                                                                                                                                   Text\n",
              "0  220291  ...  I received this product early from the seller! They are a very tastey & a Great mid-day snack. I have shared them with my Glutten Free Friends & they will be ordering this product & more very soon.\n",
              "\n",
              "[1 rows x 10 columns]"
            ]
          },
          "metadata": {
            "tags": []
          },
          "execution_count": 9
        }
      ]
    },
    {
      "cell_type": "code",
      "metadata": {
        "colab": {
          "base_uri": "https://localhost:8080/",
          "height": 0
        },
        "id": "E6GRkfk1QLui",
        "outputId": "4220a0d5-afe7-49de-92ba-ec5f8872828d"
      },
      "source": [
        "train_data['length'] = train_data['Text'].apply(len)\n",
        "train_data.head(1)"
      ],
      "execution_count": 10,
      "outputs": [
        {
          "output_type": "execute_result",
          "data": {
            "text/html": [
              "<div>\n",
              "<style scoped>\n",
              "    .dataframe tbody tr th:only-of-type {\n",
              "        vertical-align: middle;\n",
              "    }\n",
              "\n",
              "    .dataframe tbody tr th {\n",
              "        vertical-align: top;\n",
              "    }\n",
              "\n",
              "    .dataframe thead th {\n",
              "        text-align: right;\n",
              "    }\n",
              "</style>\n",
              "<table border=\"1\" class=\"dataframe\">\n",
              "  <thead>\n",
              "    <tr style=\"text-align: right;\">\n",
              "      <th></th>\n",
              "      <th>Id</th>\n",
              "      <th>ProductId</th>\n",
              "      <th>UserId</th>\n",
              "      <th>ProfileName</th>\n",
              "      <th>HelpfulnessNumerator</th>\n",
              "      <th>HelpfulnessDenominator</th>\n",
              "      <th>Score</th>\n",
              "      <th>Time</th>\n",
              "      <th>Summary</th>\n",
              "      <th>Text</th>\n",
              "      <th>length</th>\n",
              "    </tr>\n",
              "  </thead>\n",
              "  <tbody>\n",
              "    <tr>\n",
              "      <th>0</th>\n",
              "      <td>220291</td>\n",
              "      <td>B0034EDLS2</td>\n",
              "      <td>AVF82BC7S0IO7</td>\n",
              "      <td>Kbrown</td>\n",
              "      <td>0</td>\n",
              "      <td>0</td>\n",
              "      <td>5</td>\n",
              "      <td>1332806400</td>\n",
              "      <td>Very Good</td>\n",
              "      <td>I received this product early from the seller! They are a very tastey &amp; a Great mid-day snack. I have shared them with my Glutten Free Friends &amp; they will be ordering this product &amp; more very soon.</td>\n",
              "      <td>197</td>\n",
              "    </tr>\n",
              "  </tbody>\n",
              "</table>\n",
              "</div>"
            ],
            "text/plain": [
              "       Id  ... length\n",
              "0  220291  ...  197  \n",
              "\n",
              "[1 rows x 11 columns]"
            ]
          },
          "metadata": {
            "tags": []
          },
          "execution_count": 10
        }
      ]
    },
    {
      "cell_type": "code",
      "metadata": {
        "colab": {
          "base_uri": "https://localhost:8080/",
          "height": 0
        },
        "id": "3g5KwxfPQe0M",
        "outputId": "e350df2f-6819-4456-f3c7-65b310a0e9fe"
      },
      "source": [
        "train_data['Cleaned'] = train_data['Text'].apply(text_clean)\n",
        "train_data['Cleaned'][0]"
      ],
      "execution_count": 11,
      "outputs": [
        {
          "output_type": "execute_result",
          "data": {
            "application/vnd.google.colaboratory.intrinsic+json": {
              "type": "string"
            },
            "text/plain": [
              "'received product early seller tastey great mid day snack shared glutten free friends ordering product soon'"
            ]
          },
          "metadata": {
            "tags": []
          },
          "execution_count": 11
        }
      ]
    },
    {
      "cell_type": "code",
      "metadata": {
        "id": "tR5oopGxdodu"
      },
      "source": [
        "from sklearn.model_selection import train_test_split\n",
        "\n",
        "train, test = train_test_split(train_data, test_size=0.2)\n",
        "train_x = train['Cleaned']\n",
        "train_y = train['Score']\n",
        "validate_x = test['Cleaned']\n",
        "validate_y = test['Score']"
      ],
      "execution_count": 12,
      "outputs": []
    },
    {
      "cell_type": "code",
      "metadata": {
        "colab": {
          "base_uri": "https://localhost:8080/"
        },
        "id": "dAcYixSYdv0G",
        "outputId": "994982ab-d33c-4802-804f-84a819703f6a"
      },
      "source": [
        "tokenizer = Tokenizer(num_words = vocab_size, oov_token=oov_tok)\n",
        "tokenizer.fit_on_texts(train_x)\n",
        "word_index = tokenizer.word_index\n",
        "dict(list(word_index.items())[0:10])"
      ],
      "execution_count": 13,
      "outputs": [
        {
          "output_type": "execute_result",
          "data": {
            "text/plain": [
              "{'<OOV>': 1,\n",
              " 'br': 2,\n",
              " 'coffee': 9,\n",
              " 'good': 5,\n",
              " 'great': 8,\n",
              " 'like': 4,\n",
              " 'not': 3,\n",
              " 'one': 6,\n",
              " 'product': 10,\n",
              " 'taste': 7}"
            ]
          },
          "metadata": {
            "tags": []
          },
          "execution_count": 13
        }
      ]
    },
    {
      "cell_type": "code",
      "metadata": {
        "id": "rTmaKXmsd0dB"
      },
      "source": [
        "train_x_sequences = tokenizer.texts_to_sequences(train_x)\n",
        "validate_x_sequences = tokenizer.texts_to_sequences(validate_x)\n",
        "train_x_padded = pad_sequences(train_x_sequences, maxlen=max_length, padding=padding_type, truncating=trunc_type)\n",
        "validate_x_padded = pad_sequences(validate_x_sequences, maxlen=max_length, padding=padding_type, truncating=trunc_type)"
      ],
      "execution_count": 14,
      "outputs": []
    },
    {
      "cell_type": "code",
      "metadata": {
        "colab": {
          "base_uri": "https://localhost:8080/"
        },
        "id": "rCZoXkfBeb0H",
        "outputId": "18cd7b51-0d43-403c-e498-662eced4e4d1"
      },
      "source": [
        "print(len(train_x_sequences[0]))\n",
        "print(len(validate_x_padded[0]))\n",
        "\n",
        "print(len(train_x_sequences[1]))\n",
        "print(len(validate_x_padded[1]))\n",
        "\n",
        "print(len(train_x_sequences[10]))\n",
        "print(len(validate_x_padded[10]))"
      ],
      "execution_count": 15,
      "outputs": [
        {
          "output_type": "stream",
          "text": [
            "25\n",
            "500\n",
            "27\n",
            "500\n",
            "17\n",
            "500\n"
          ],
          "name": "stdout"
        }
      ]
    },
    {
      "cell_type": "code",
      "metadata": {
        "id": "W2375nMJeuiO"
      },
      "source": [
        "test_data = pd.read_csv('gs://omar-ds-lab/ta-cw1/test.csv')\n",
        "test_labels = pd.read_csv('gs://omar-ds-lab/ta-cw1/labels.csv')"
      ],
      "execution_count": 16,
      "outputs": []
    },
    {
      "cell_type": "code",
      "metadata": {
        "colab": {
          "base_uri": "https://localhost:8080/",
          "height": 0
        },
        "id": "WN1C0xm7ewZO",
        "outputId": "485f8a75-394c-4d15-af2c-206426718df2"
      },
      "source": [
        "test_data['Cleaned'] = test_data['Text'].apply(text_clean)\n",
        "test_data['Cleaned'][0]"
      ],
      "execution_count": 17,
      "outputs": [
        {
          "output_type": "execute_result",
          "data": {
            "application/vnd.google.colaboratory.intrinsic+json": {
              "type": "string"
            },
            "text/plain": [
              "'fog chaser best flavor body far product body compatible richer flavor blew coffee uses cup system'"
            ]
          },
          "metadata": {
            "tags": []
          },
          "execution_count": 17
        }
      ]
    },
    {
      "cell_type": "code",
      "metadata": {
        "id": "TaeVr0O2e35Z"
      },
      "source": [
        "test_final_sequences = tokenizer.texts_to_sequences(test_data['Cleaned'])\n",
        "test_final_padded = pad_sequences(test_final_sequences, maxlen=max_length, padding=padding_type, truncating=trunc_type)"
      ],
      "execution_count": 18,
      "outputs": []
    },
    {
      "cell_type": "markdown",
      "metadata": {
        "id": "_mPOK7SYEeeN"
      },
      "source": [
        "# QUESTION 5"
      ]
    },
    {
      "cell_type": "markdown",
      "metadata": {
        "id": "r5fD6E-I88ds"
      },
      "source": [
        "splitting the data into train test set"
      ]
    },
    {
      "cell_type": "code",
      "metadata": {
        "colab": {
          "base_uri": "https://localhost:8080/"
        },
        "id": "sPiS5R_PF0-t",
        "outputId": "38b2f172-3eca-47eb-85a5-f60ff629fbed"
      },
      "source": [
        "model = tf.keras.Sequential([\n",
        "    # Add an Embedding layer expecting input vocab of size 5000, and output embedding dimension of size 64 we set at the top\n",
        "    tf.keras.layers.Embedding(vocab_size, embedding_dim),\n",
        "    tf.keras.layers.Bidirectional(tf.keras.layers.LSTM(embedding_dim)),\n",
        "#    tf.keras.layers.Bidirectional(tf.keras.layers.LSTM(32)),\n",
        "    # use ReLU in place of tanh function since they are very good alternatives of each other.\n",
        "    tf.keras.layers.Dense(embedding_dim, activation='relu'),\n",
        "    # Add a Dense layer with 6 units and softmax activation.\n",
        "    # When we have multiple outputs, softmax convert outputs layers into a probability distribution.\n",
        "    tf.keras.layers.Dense(6, activation='softmax')\n",
        "])\n",
        "model.summary()"
      ],
      "execution_count": null,
      "outputs": [
        {
          "output_type": "stream",
          "text": [
            "Model: \"sequential\"\n",
            "_________________________________________________________________\n",
            "Layer (type)                 Output Shape              Param #   \n",
            "=================================================================\n",
            "embedding (Embedding)        (None, None, 64)          320000    \n",
            "_________________________________________________________________\n",
            "bidirectional (Bidirectional (None, 128)               66048     \n",
            "_________________________________________________________________\n",
            "dense (Dense)                (None, 64)                8256      \n",
            "_________________________________________________________________\n",
            "dense_1 (Dense)              (None, 6)                 390       \n",
            "=================================================================\n",
            "Total params: 394,694\n",
            "Trainable params: 394,694\n",
            "Non-trainable params: 0\n",
            "_________________________________________________________________\n"
          ],
          "name": "stdout"
        }
      ]
    },
    {
      "cell_type": "code",
      "metadata": {
        "id": "Cyyg77L9GLTD"
      },
      "source": [
        "model.compile(loss='sparse_categorical_crossentropy', optimizer='adam', metrics=['accuracy'])\n"
      ],
      "execution_count": null,
      "outputs": []
    },
    {
      "cell_type": "code",
      "metadata": {
        "colab": {
          "base_uri": "https://localhost:8080/",
          "height": 241
        },
        "id": "E61WbZjIGQgF",
        "outputId": "019fc1e8-8018-48b0-ee93-96859327e4da"
      },
      "source": [
        "num_epochs = 20\n",
        "history = model.fit(train_x_padded, train_y, epochs=num_epochs, validation_data=(validate_x_padded, validate_y), verbose=2, callbacks=[plot_losses])"
      ],
      "execution_count": null,
      "outputs": [
        {
          "output_type": "display_data",
          "data": {
            "image/png": "[encoded data removed]",
            "text/plain": [
              "<Figure size 576x216 with 1 Axes>"
            ]
          },
          "metadata": {
            "tags": [],
            "needs_background": "light"
          }
        }
      ]
    },
    {
      "cell_type": "code",
      "metadata": {
        "id": "JxMV_fAdj8T4",
        "colab": {
          "base_uri": "https://localhost:8080/"
        },
        "outputId": "e1533a1e-31de-4f9d-ac83-a9112ee1fbb6"
      },
      "source": [
        "preds = model.predict(test_final_padded)\n",
        "scores = model.evaluate(preds, test_labels['Score'], verbose=0)\n",
        "scores"
      ],
      "execution_count": null,
      "outputs": [
        {
          "output_type": "execute_result",
          "data": {
            "text/plain": [
              "[1.2821413278579712, 0.6377274394035339]"
            ]
          },
          "metadata": {
            "tags": []
          },
          "execution_count": 23
        }
      ]
    },
    {
      "cell_type": "markdown",
      "metadata": {
        "id": "z_fSlkL1EjDw"
      },
      "source": [
        "# RESEARCH QUESTION"
      ]
    },
    {
      "cell_type": "code",
      "metadata": {
        "id": "TuhtwIhyExKj"
      },
      "source": [
        "import string\n",
        "from nltk.tokenize import word_tokenize\n",
        "from nltk.corpus import stopwords\n",
        "\n",
        "reviews_lines = list()\n",
        "\n",
        "lines = train_data['Cleaned'].values.tolist()\n",
        "\n",
        "for line in lines:\n",
        "  tokens = word_tokenize(line)\n",
        "  tokens = [word.lower() for word in tokens]\n",
        "  table = str.maketrans('','',string.punctuation)\n",
        "  stripped = [w.translate(table) for w in tokens]\n",
        "  words = [word for word in stripped if word.isalpha()]\n",
        "  stop_words = set(stopwords.words('english'))\n",
        "  words = [w for w in words if not w in stop_words]\n",
        "  words = [w for w in words if not w == 'br']\n",
        "  reviews_lines.append(words)"
      ],
      "execution_count": 19,
      "outputs": []
    },
    {
      "cell_type": "code",
      "metadata": {
        "id": "IOZVCUPiFXaH"
      },
      "source": [
        "import gensim\n",
        "# Train Word2Vec model with gensim on the dataset\n",
        "w2v_model = gensim.models.Word2Vec(sentences=reviews_lines, size=100, window=5, min_count=10, workers=8)\n"
      ],
      "execution_count": 20,
      "outputs": []
    },
    {
      "cell_type": "code",
      "metadata": {
        "colab": {
          "base_uri": "https://localhost:8080/"
        },
        "id": "GvXgmzoyGfwE",
        "outputId": "c39217d2-e678-4b38-da1f-47fdc948191d"
      },
      "source": [
        "# Retrieve the weights from the model. This is used for initializing the weights\n",
        "# in a Keras Embedding layer later\n",
        "w2v_weights = w2v_model.wv.vectors\n",
        "vocab_size, embedding_size = w2v_weights.shape\n",
        "\n",
        "print(\"Vocabulary Size: {} - Embedding Dim: {}\".format(vocab_size, embedding_size))\n",
        "\n",
        "# Some validation on the quality of the Word2Vec model\n",
        "# print(w2v_model.wv.most_similar('1', topn=3))\n",
        "print(w2v_model.wv.most_similar('movie', topn=3))\n",
        "print(w2v_model.wv.most_similar('cinema', topn=3))\n",
        "# print(w2v_model.wv.most_similar('ufsc', topn=3))\n",
        "# print(w2v_model.wv.most_similar(positive=['rei', 'mulher'], negative=['homem'], topn=3))\n",
        "\n",
        "def word2token(word):\n",
        "    try:\n",
        "        return w2v_model.wv.vocab[word].index\n",
        "    # If word is not in index return 0. I realize this means that this\n",
        "    # is the same as the word of index 0 (i.e. most frequent word), but 0s\n",
        "    # will be padded later anyway by the embedding layer (which also\n",
        "    # seems dirty but I couldn't find a better solution right now)\n",
        "    except KeyError:\n",
        "        return 0\n",
        "def token2word(token):\n",
        "    return w2v_model.wv.index2word[token]"
      ],
      "execution_count": 21,
      "outputs": [
        {
          "output_type": "stream",
          "text": [
            "Vocabulary Size: 25774 - Embedding Dim: 100\n",
            "[('movies', 0.7719498872756958), ('theater', 0.6902551651000977), ('theatre', 0.6693642139434814)]\n",
            "[('krema', 0.668642520904541), ('underworld', 0.6511737108230591), ('pasadena', 0.6465137004852295)]\n"
          ],
          "name": "stdout"
        }
      ]
    },
    {
      "cell_type": "code",
      "metadata": {
        "colab": {
          "base_uri": "https://localhost:8080/",
          "height": 85
        },
        "id": "qLb3WoioCzzP",
        "outputId": "26a9f413-50d8-4517-e24b-b901e6fcd5ce"
      },
      "source": [
        "# First let's visualize the distribution of categories in the dataset\n",
        "categories, ccount = np.unique(train_data.Score, return_counts=True)\n",
        "\n",
        "# Using a figsize this big seems dirty. It's the only way I figured to make\n",
        "# the x labels not overlap. I suck at plotting, sorry\n",
        "plt.figure(figsize=(128, 8))\n",
        "plt.title(\"Dataset Category Distribution\")\n",
        "plt.bar(categories, ccount, align='center')\n",
        "plt.show()"
      ],
      "execution_count": 22,
      "outputs": [
        {
          "output_type": "display_data",
          "data": {
            "image/png": "[encoded data removed]",
            "text/plain": [
              "<Figure size 9216x576 with 1 Axes>"
            ]
          },
          "metadata": {
            "tags": [],
            "needs_background": "light"
          }
        }
      ]
    },
    {
      "cell_type": "code",
      "metadata": {
        "id": "OuatUMmMEzfH"
      },
      "source": [
        "df = pd.DataFrame()\n",
        "df['text'] = train_data['Cleaned']\n",
        "df['category'] = train_data['Score']"
      ],
      "execution_count": 23,
      "outputs": []
    },
    {
      "cell_type": "code",
      "metadata": {
        "colab": {
          "base_uri": "https://localhost:8080/"
        },
        "id": "VbhyNompFNoC",
        "outputId": "67edaabc-b41d-47d4-e737-e5c8da8da853"
      },
      "source": [
        "# Create an iterator that formats data from the dataset proper for\n",
        "# LSTM training\n",
        "\n",
        "# Sequences will be padded or truncated to this length\n",
        "MAX_SEQUENCE_LENGTH = 200\n",
        "\n",
        "# Samples of categories with less than this number of samples will be ignored\n",
        "DROP_THRESHOLD = 10000\n",
        "\n",
        "class SequenceIterator:\n",
        "    def __init__(self, dataset, drop_threshold, seq_length):\n",
        "        self.dataset = dataset\n",
        "\n",
        "        self.translator = str.maketrans('', '', string.punctuation + '–')\n",
        "        self.categories, self.ccount = np.unique(dataset.category, return_counts=True)\n",
        "        \n",
        "        self.seq_length = seq_length\n",
        "        \n",
        "        # Samples of categories with less than this number of samples will be ignored\n",
        "        self.drop_categos = []\n",
        "        for cat, count in zip(self.categories, self.ccount):\n",
        "            if count < drop_threshold:\n",
        "                self.drop_categos.append(cat)\n",
        "        \n",
        "        # Remaining categories\n",
        "        self.categories = np.setdiff1d(self.categories, self.drop_categos)\n",
        "        \n",
        "    def __iter__(self):\n",
        "        for news, cat in zip(self.dataset.iloc[:, 0], self.dataset.iloc[:, 1]):\n",
        "            if cat in self.drop_categos:\n",
        "                continue\n",
        "            \n",
        "            # Make all characters lower-case\n",
        "            news = news.lower()\n",
        "            \n",
        "            # Clean string of all punctuation\n",
        "            news = news.translate(self.translator)\n",
        "\n",
        "            words = np.array([word2token(w) for w in news.split(' ')[:self.seq_length] if w != ''])\n",
        "                                \n",
        "            yield (words, cat)\n",
        "\n",
        "sequences = SequenceIterator(df, DROP_THRESHOLD, MAX_SEQUENCE_LENGTH)\n",
        "\n",
        "# Used for generating the labels in the set\n",
        "cat_dict = {k: v for k, v in zip(sequences.categories, range(len(sequences.categories)))}\n",
        "\n",
        "set_x = []\n",
        "set_y = []\n",
        "for w, c in sequences:\n",
        "    set_x.append(w)\n",
        "    set_y.append(cat_dict[c])\n",
        "    \n",
        "# Padding sequences with 0.\n",
        "set_x = pad_sequences(set_x, maxlen=MAX_SEQUENCE_LENGTH, padding='pre', value=0)\n",
        "set_y = np.array(set_y)\n",
        "\n",
        "print(set_x.shape)\n",
        "print(set_y.shape)"
      ],
      "execution_count": 24,
      "outputs": [
        {
          "output_type": "stream",
          "text": [
            "(426340, 200)\n",
            "(426340,)\n"
          ],
          "name": "stdout"
        }
      ]
    },
    {
      "cell_type": "code",
      "metadata": {
        "colab": {
          "base_uri": "https://localhost:8080/",
          "height": 1000
        },
        "id": "fyStmo5Kf6SB",
        "outputId": "5e6bec5e-4e5e-4a0c-ce01-5129a5efe2e1"
      },
      "source": [
        "import random\n",
        "\n",
        "VALID_PER = 0.15 # Percentage of the whole set that will be separated for validation\n",
        "\n",
        "total_samples = set_x.shape[0]\n",
        "n_val = int(VALID_PER * total_samples)\n",
        "n_train = total_samples - n_val\n",
        "\n",
        "random_i = random.sample(range(total_samples), total_samples)\n",
        "train_x = set_x[random_i[:n_train]]\n",
        "train_y = set_y[random_i[:n_train]]\n",
        "val_x = set_x[random_i[n_train:n_train+n_val]]\n",
        "val_y = set_y[random_i[n_train:n_train+n_val]]\n",
        "\n",
        "print(\"Train Shapes - X: {} - Y: {}\".format(train_x.shape, train_y.shape))\n",
        "print(\"Val Shapes - X: {} - Y: {}\".format(val_x.shape, val_y.shape))\n",
        "\n",
        "# Let's look at the distribution of categories in both sets\n",
        "categories, ccount = np.unique(train_y, return_counts=True)\n",
        "plt.figure(figsize=(16, 8))\n",
        "plt.title(\"Training Set - Category Distribution\")\n",
        "plt.xticks(range(len(categories)), cat_dict.keys())\n",
        "plt.bar(categories, ccount, align='center')\n",
        "plt.show()\n",
        "\n",
        "categories, ccount = np.unique(val_y, return_counts=True)\n",
        "plt.figure(figsize=(16, 8))\n",
        "plt.title(\"Validation Set - Category Distribution\")\n",
        "plt.xticks(range(len(categories)), cat_dict.keys())\n",
        "plt.bar(categories, ccount, align='center')\n",
        "plt.show()\n",
        "\n",
        "n_categories = len(categories)"
      ],
      "execution_count": 25,
      "outputs": [
        {
          "output_type": "stream",
          "text": [
            "Train Shapes - X: (362389, 200) - Y: (362389,)\n",
            "Val Shapes - X: (63951, 200) - Y: (63951,)\n"
          ],
          "name": "stdout"
        },
        {
          "output_type": "display_data",
          "data": {
            "image/png": "[encoded data removed]",
            "text/plain": [
              "<Figure size 1152x576 with 1 Axes>"
            ]
          },
          "metadata": {
            "tags": [],
            "needs_background": "light"
          }
        },
        {
          "output_type": "display_data",
          "data": {
            "image/png": "[encoded data removed]",
            "text/plain": [
              "<Figure size 1152x576 with 1 Axes>"
            ]
          },
          "metadata": {
            "tags": [],
            "needs_background": "light"
          }
        }
      ]
    },
    {
      "cell_type": "code",
      "metadata": {
        "colab": {
          "base_uri": "https://localhost:8080/"
        },
        "id": "K-JKj0gpRSrZ",
        "outputId": "b213ac0a-6b2e-4f47-87f8-5390cf93a653"
      },
      "source": [
        "model_w2v = tf.keras.Sequential([\n",
        "    # Add an Embedding layer expecting input vocab of size 5000, and output embedding dimension of size 64 we set at the top\n",
        "    tf.keras.layers.Embedding(input_dim=vocab_size,\n",
        "                    output_dim=embedding_size,\n",
        "                    weights=[w2v_weights],\n",
        "                    input_length=MAX_SEQUENCE_LENGTH,\n",
        "                    mask_zero=True,\n",
        "                    trainable=False),\n",
        "    tf.keras.layers.Bidirectional(tf.keras.layers.LSTM(embedding_size)),\n",
        "#    tf.keras.layers.Bidirectional(tf.keras.layers.LSTM(32)),\n",
        "    # use ReLU in place of tanh function since they are very good alternatives of each other.\n",
        "    # tf.keras.layers.Dense(embedding_dim, activation='relu'),\n",
        "    # Add a Dense layer with 6 units and softmax activation.\n",
        "    # When we have multiple outputs, softmax convert outputs layers into a probability distribution.\n",
        "    tf.keras.layers.Dense(n_categories, activation='softmax')\n",
        "])\n",
        "model_w2v.compile(loss='sparse_categorical_crossentropy', optimizer='adam', metrics=['accuracy'])\n",
        "model_w2v.summary()\n"
      ],
      "execution_count": 26,
      "outputs": [
        {
          "output_type": "stream",
          "text": [
            "Model: \"sequential\"\n",
            "_________________________________________________________________\n",
            "Layer (type)                 Output Shape              Param #   \n",
            "=================================================================\n",
            "embedding (Embedding)        (None, 200, 100)          2577400   \n",
            "_________________________________________________________________\n",
            "bidirectional (Bidirectional (None, 200)               160800    \n",
            "_________________________________________________________________\n",
            "dense (Dense)                (None, 5)                 1005      \n",
            "=================================================================\n",
            "Total params: 2,739,205\n",
            "Trainable params: 161,805\n",
            "Non-trainable params: 2,577,400\n",
            "_________________________________________________________________\n"
          ],
          "name": "stdout"
        }
      ]
    },
    {
      "cell_type": "code",
      "metadata": {
        "colab": {
          "base_uri": "https://localhost:8080/",
          "height": 241
        },
        "id": "1MMPmwKSRwbP",
        "outputId": "aff0356a-1102-4f8a-a772-3bc0205e133e"
      },
      "source": [
        "num_epochs = 20\n",
        "history = model_w2v.fit(train_x, train_y, epochs=num_epochs, validation_data=(val_x, val_y), batch_size=512, verbose=2, callbacks=[plot_losses])"
      ],
      "execution_count": 27,
      "outputs": [
        {
          "output_type": "display_data",
          "data": {
            "image/png": "[encoded data removed]",
            "text/plain": [
              "<Figure size 576x216 with 1 Axes>"
            ]
          },
          "metadata": {
            "tags": [],
            "needs_background": "light"
          }
        }
      ]
    },
    {
      "cell_type": "code",
      "metadata": {
        "id": "fFnkT7TDSmCH",
        "colab": {
          "base_uri": "https://localhost:8080/"
        },
        "outputId": "53c09628-5335-49bd-855e-c2a6402fad96"
      },
      "source": [
        "preds = model_w2v.predict(test_final_padded)\n",
        "scores = model_w2v.evaluate(preds, test_labels['Score'], verbose=0)\n",
        "scores"
      ],
      "execution_count": 28,
      "outputs": [
        {
          "output_type": "stream",
          "text": [
            "WARNING:tensorflow:Model was constructed with shape (None, 200) for input KerasTensor(type_spec=TensorSpec(shape=(None, 200), dtype=tf.float32, name='embedding_input'), name='embedding_input', description=\"created by layer 'embedding_input'\"), but it was called on an input with incompatible shape (None, 500).\n",
            "WARNING:tensorflow:Model was constructed with shape (None, 200) for input KerasTensor(type_spec=TensorSpec(shape=(None, 200), dtype=tf.float32, name='embedding_input'), name='embedding_input', description=\"created by layer 'embedding_input'\"), but it was called on an input with incompatible shape (None, 5).\n"
          ],
          "name": "stdout"
        },
        {
          "output_type": "execute_result",
          "data": {
            "text/plain": [
              "[nan, 0.14316675066947937]"
            ]
          },
          "metadata": {
            "tags": []
          },
          "execution_count": 28
        }
      ]
    },
    {
      "cell_type": "code",
      "metadata": {
        "id": "08apzXdEzNSm",
        "colab": {
          "base_uri": "https://localhost:8080/"
        },
        "outputId": "d7bb783e-d097-4dbc-daf4-9b91b75c5e83"
      },
      "source": [
        "print(\"%s: %.2f%%\" % (model_w2v.metrics_names[1], scores[1]*100))"
      ],
      "execution_count": 29,
      "outputs": [
        {
          "output_type": "stream",
          "text": [
            "accuracy: 14.32%\n"
          ],
          "name": "stdout"
        }
      ]
    },
    {
      "cell_type": "code",
      "metadata": {
        "id": "tvSuLaMBzztW"
      },
      "source": [
        ""
      ],
      "execution_count": 30,
      "outputs": []
    },
    {
      "cell_type": "code",
      "metadata": {
        "id": "S1M4k6f60Cjh"
      },
      "source": [
        ""
      ],
      "execution_count": null,
      "outputs": []
    }
  ]
}